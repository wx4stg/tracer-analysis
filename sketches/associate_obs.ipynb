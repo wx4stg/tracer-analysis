{
 "cells": [
  {
   "cell_type": "code",
   "execution_count": 1,
   "metadata": {},
   "outputs": [],
   "source": [
    "import xarray as xr\n",
    "import pandas as pd\n",
    "from datetime import datetime as dt\n",
    "from os import path, listdir\n",
    "import numpy as np\n",
    "from pyxlma.coords import centers_to_edges\n",
    "from metpy.interpolate import interpolate_1d\n",
    "from scipy.interpolate import interp1d\n",
    "from numba import njit"
   ]
  },
  {
   "cell_type": "code",
   "execution_count": 2,
   "metadata": {},
   "outputs": [],
   "source": [
    "@njit\n",
    "def identify_side(dts, lons, lats, tfm_times, seabreeze, grid_lon, grid_lat):\n",
    "    seabreezes = np.zeros(lons.shape)\n",
    "    for i in np.arange(seabreezes.shape[0]):\n",
    "        lon = lons[i]\n",
    "        lat = lats[i]\n",
    "        this_dt = dts[i]\n",
    "        closest_time_idx = np.argmin(np.abs(tfm_times - this_dt))\n",
    "        dist_idx_raveled = np.argmin(((grid_lon - lon)**2 + (grid_lat - lat)**2)**0.5)\n",
    "        # dist_idx = np.unravel_index(distance.compute(), distance.shape)\n",
    "        # Manually implement unravel_index since it isn't supported by numba\n",
    "        closest_row_idx = dist_idx_raveled // grid_lon.shape[1]\n",
    "        closest_col_idx = dist_idx_raveled % grid_lon.shape[1]\n",
    "        closest_seabreeze = seabreeze[closest_time_idx, closest_row_idx, closest_col_idx]\n",
    "        seabreezes[i] = closest_seabreeze\n",
    "    return seabreezes"
   ]
  },
  {
   "cell_type": "code",
   "execution_count": 3,
   "metadata": {},
   "outputs": [],
   "source": [
    "date_i_want = dt(2022, 6, 2, 0, 0)\n",
    "tfm_path = f'/Volumes/LtgSSD/tobac_saves/tobac_Save_{date_i_want.strftime(\"%Y%m%d\")}/seabreeze.zarr'\n",
    "tfm = xr.open_dataset(tfm_path, engine='zarr', chunks='auto')"
   ]
  },
  {
   "cell_type": "code",
   "execution_count": 4,
   "metadata": {},
   "outputs": [],
   "source": [
    "n_sounding_levels = 2000\n",
    "time_start_this_day = np.min(tfm.time.data)\n",
    "time_end_this_day = np.max(tfm.time.data)\n",
    "\n",
    "# Load the ARM DOE sondes\n",
    "arm_sonde_path = '/Volumes/LtgSSD/arm-sondes/'\n",
    "arm_sonde_files = sorted(listdir(arm_sonde_path))\n",
    "arm_sonde_dts = np.array([dt.strptime(' '.join(f.split('.')[2:4]), '%Y%m%d %H%M%S') for f in arm_sonde_files]).astype('datetime64[s]')\n",
    "arm_sonde_files = np.array([path.join(arm_sonde_path, f) for f in arm_sonde_files])\n",
    "arm_day_filter = np.where((arm_sonde_dts >= time_start_this_day) & (arm_sonde_dts <= time_end_this_day))[0]\n",
    "arm_sonde_files_this_day = arm_sonde_files[arm_day_filter]\n",
    "if len(arm_sonde_files) > 0:\n",
    "    arm_sonde_dts_this_day = arm_sonde_dts[arm_day_filter]\n",
    "    arm_sonde_lons = []\n",
    "    arm_sonde_lats = []\n",
    "\n",
    "    for sonde_file in arm_sonde_files_this_day:\n",
    "        tmp_sonde = xr.open_dataset(sonde_file)\n",
    "        arm_sonde_lons.append(tmp_sonde.lon.data[0])\n",
    "        arm_sonde_lats.append(tmp_sonde.lat.data[0])\n",
    "        tmp_sonde.close()\n",
    "\n",
    "    arm_sonde_lons = np.array(arm_sonde_lons)\n",
    "    arm_sonde_lats = np.array(arm_sonde_lats)\n",
    "\n",
    "    arm_sonde_sbf_side = identify_side(arm_sonde_dts_this_day.astype('datetime64[s]').astype(float), arm_sonde_lons, arm_sonde_lats, tfm.time.compute().data.astype('datetime64[s]').astype(float),\n",
    "                                                tfm.seabreeze.transpose('time', *tfm.lat.dims).compute().data, tfm.lon.compute().data, tfm.lat.compute().data)        \n",
    "else:\n",
    "    print('Warning, no ARM sondes found!')\n",
    "    arm_sonde_files_this_day = np.empty(0, dtype=str)\n",
    "    arm_sonde_dts_this_day = np.empty(0, dtype='datetime64[s]')\n",
    "    arm_sonde_sbf_side = np.empty(0, dtype=int)"
   ]
  },
  {
   "cell_type": "code",
   "execution_count": 5,
   "metadata": {},
   "outputs": [],
   "source": [
    "# Load the TAMU sondes\n",
    "tamu_sonde_path = '/Volumes/LtgSSD/TAMU_SONDES/'\n",
    "tamu_sonde_files = sorted(listdir(tamu_sonde_path))\n",
    "tamu_sonde_dts = np.array([dt.strptime('_'.join(f.split('_')[2:4]), '%Y%m%d_%H%M') for f in tamu_sonde_files]).astype('datetime64[s]')\n",
    "tamu_sonde_files = np.array([path.join(tamu_sonde_path, f) for f in tamu_sonde_files])\n",
    "tamu_day_filter = np.where((tamu_sonde_dts >= time_start_this_day) & (tamu_sonde_dts <= time_end_this_day))[0]\n",
    "tamu_sonde_files_this_day = tamu_sonde_files[tamu_day_filter]\n",
    "if len(tamu_sonde_files_this_day) > 0:\n",
    "    tamu_sonde_dts_this_day = tamu_sonde_dts[tamu_day_filter]\n",
    "    tamu_sonde_files_split = np.vstack(np.char.split(tamu_sonde_files_this_day, sep='_'))\n",
    "    tamu_sonde_lons = tamu_sonde_files_split[:, -3]\n",
    "    lon_negative = ((np.char.find(tamu_sonde_lons, 'W') >= 0).astype(int) - 0.5) * -2\n",
    "    tamu_sonde_lons = np.char.replace(tamu_sonde_lons, 'W', '')\n",
    "    tamu_sonde_lons = np.char.replace(tamu_sonde_lons, 'E', '')\n",
    "    tamu_sonde_lons = tamu_sonde_lons.astype(float) * lon_negative\n",
    "\n",
    "    tamu_sonde_lats = tamu_sonde_files_split[:, -2]\n",
    "    lat_negative = ((np.char.find(tamu_sonde_lats, 'S') >= 0).astype(int) - 0.5) * -2\n",
    "    tamu_sonde_lats = np.char.replace(tamu_sonde_lats, 'S', '')\n",
    "    tamu_sonde_lats = np.char.replace(tamu_sonde_lats, 'N', '')\n",
    "    tamu_sonde_lats = tamu_sonde_lats.astype(float) * lat_negative\n",
    "\n",
    "    tamu_sonde_sbf_side = identify_side(tamu_sonde_dts_this_day.astype('datetime64[s]').astype(float), tamu_sonde_lons, tamu_sonde_lats, tfm.time.compute().data.astype('datetime64[s]').astype(float),\n",
    "                                                tfm.seabreeze.transpose('time', *tfm.lat.dims).compute().data, tfm.lon.compute().data, tfm.lat.compute().data)\n",
    "    \n",
    "else:\n",
    "    print('Warning, no TAMU sondes found!')\n",
    "    tamu_sonde_files_this_day = np.empty(0, dtype=str)\n",
    "    tamu_sonde_dts_this_day = np.empty(0, dtype='datetime64[s]')\n",
    "    tamu_sonde_sbf_side = np.empty(0, dtype=int)"
   ]
  },
  {
   "cell_type": "code",
   "execution_count": 6,
   "metadata": {},
   "outputs": [],
   "source": [
    "def interp_sounding_times(tfm_time, prev_idx, new_idx, data):\n",
    "    last_profile = data[prev_idx, :, :].copy()\n",
    "    new_profile = data[new_idx, :, :].copy()\n",
    "    last_time = tfm_time[prev_idx].copy().astype(float)\n",
    "    new_time = tfm_time[new_idx].copy().astype(float)\n",
    "    times_between = tfm_time[prev_idx+1:new_idx].copy().astype(float)\n",
    "    x_arr = np.array([last_time, new_time])\n",
    "    y_arr = np.array([last_profile, new_profile])\n",
    "    interper = interp1d(\n",
    "        x_arr,\n",
    "        y_arr,\n",
    "        kind='linear',\n",
    "        bounds_error=False,\n",
    "        fill_value=np.nan,\n",
    "        axis=0\n",
    "    )\n",
    "    return interper(times_between)"
   ]
  },
  {
   "cell_type": "code",
   "execution_count": null,
   "metadata": {},
   "outputs": [
    {
     "name": "stdout",
     "output_type": "stream",
     "text": [
      "Found a continental sounding at 2022-06-02T05:30:00\n",
      "This is the first sounding, setting the first profile from the beginning of the dataset to now\n",
      "Closest TFM time is 2022-06-02T05:30:32.823000064\n",
      "Found a continental sounding at 2022-06-02T11:29:00\n",
      "Found a continental sounding at 2022-06-02T17:45:00\n",
      "Found a continental sounding at 2022-06-02T20:30:00\n",
      "Found a continental sounding at 2022-06-02T19:00:00\n",
      "Found a continental sounding at 2022-06-02T22:00:00\n",
      "Found a continental sounding at 2022-06-02T17:30:00\n",
      "Found a continental sounding at 2022-06-02T20:30:00\n",
      "Found a continental sounding at 2022-06-02T19:00:00\n",
      "Found a continental sounding at 2022-06-02T22:00:00\n",
      "Found a continental sounding at 2022-06-02T20:28:00\n",
      "Found a continental sounding at 2022-06-02T23:30:00\n"
     ]
    },
    {
     "name": "stderr",
     "output_type": "stream",
     "text": [
      "/Users/stgardner4/micromamba/envs/tracer/lib/python3.12/site-packages/metpy/interpolate/one_dimension.py:160: RuntimeWarning: invalid value encountered in divide\n",
      "  var_interp = var[below] + (var[above] - var[below]) * ((x_array - xp[below])\n",
      "/Users/stgardner4/micromamba/envs/tracer/lib/python3.12/site-packages/metpy/interpolate/one_dimension.py:160: RuntimeWarning: invalid value encountered in divide\n",
      "  var_interp = var[below] + (var[above] - var[below]) * ((x_array - xp[below])\n",
      "/Users/stgardner4/micromamba/envs/tracer/lib/python3.12/site-packages/metpy/interpolate/one_dimension.py:160: RuntimeWarning: invalid value encountered in divide\n",
      "  var_interp = var[below] + (var[above] - var[below]) * ((x_array - xp[below])\n",
      "/Users/stgardner4/micromamba/envs/tracer/lib/python3.12/site-packages/metpy/interpolate/one_dimension.py:160: RuntimeWarning: invalid value encountered in divide\n",
      "  var_interp = var[below] + (var[above] - var[below]) * ((x_array - xp[below])\n",
      "/Users/stgardner4/micromamba/envs/tracer/lib/python3.12/site-packages/metpy/interpolate/one_dimension.py:160: RuntimeWarning: invalid value encountered in divide\n",
      "  var_interp = var[below] + (var[above] - var[below]) * ((x_array - xp[below])\n",
      "/Users/stgardner4/micromamba/envs/tracer/lib/python3.12/site-packages/metpy/interpolate/one_dimension.py:160: RuntimeWarning: invalid value encountered in divide\n",
      "  var_interp = var[below] + (var[above] - var[below]) * ((x_array - xp[below])\n"
     ]
    }
   ],
   "source": [
    "all_sonde_files = np.concatenate([arm_sonde_files_this_day, tamu_sonde_files_this_day])\n",
    "all_sonde_dts = np.concatenate([arm_sonde_dts_this_day, tamu_sonde_dts_this_day])\n",
    "all_sonde_sbf_side = np.concatenate([arm_sonde_sbf_side, tamu_sonde_sbf_side])\n",
    "\n",
    "maritime_sonde_dts = all_sonde_dts[all_sonde_sbf_side == -1]\n",
    "maritime_sorting = np.argsort(maritime_sonde_dts)\n",
    "maritime_sonde_dts = maritime_sonde_dts[maritime_sorting]\n",
    "\n",
    "continental_sonde_dts = all_sonde_dts[all_sonde_sbf_side == -2]\n",
    "continental_sorting = np.argsort(continental_sonde_dts)\n",
    "continental_sonde_dts = continental_sonde_dts[continental_sorting]\n",
    "\n",
    "n_sounding_vars = 6\n",
    "maritime_representative_profile = np.full((tfm.time.shape[0], n_sounding_levels, n_sounding_vars), -999, dtype=float)\n",
    "last_maritime_profile_time_index = -1\n",
    "\n",
    "continental_representative_profile = np.full((tfm.time.shape[0], n_sounding_levels, n_sounding_vars), -999, dtype=float)\n",
    "last_continental_profile_time_index = -1\n",
    "\n",
    "for f, this_dt, sbf in zip(all_sonde_files, all_sonde_dts, all_sonde_sbf_side):\n",
    "    if f.endswith('.cdf'):\n",
    "        this_sonde_data = xr.open_dataset(f)\n",
    "    else:\n",
    "        this_sonde_data = pd.read_csv('/Volumes/LtgSSD/TAMU_SONDES/TAMU_TRACER_20220602_2028_95.93W_30.07N_TSPOTINT.txt', skiprows=28, encoding='latin1', sep='\\\\s+', names=[\n",
    "            'FlightTime', 'pres', 'tdry', 'RH', 'WindSpeed', 'WindDirection', 'AGL', 'AGL2', 'alt', 'Longitude', 'Latitude', 'y', 'x', 'Tv', 'dp', 'rho',\n",
    "            'e', 'v_wind', 'u_wind', 'range', 'rv', 'MSL2', 'UTC_DAY', 'UTC_TIME', 'UTC_AMPM', 'ELAPSED_TIME', 'ELAPSED_TIME2', 'ELAPSED_TIME3', 'FrostPoint']\n",
    "            )\n",
    "    new_pres = np.linspace(np.max(this_sonde_data.pres.values), np.min(this_sonde_data.pres.values), n_sounding_levels)\n",
    "    new_t, new_dp, new_u, new_v, new_z = interpolate_1d(new_pres, this_sonde_data.pres.values, this_sonde_data.tdry.values,\n",
    "                            this_sonde_data.dp.values, this_sonde_data.u_wind.values, this_sonde_data.v_wind.values,\n",
    "                            this_sonde_data.alt.values)\n",
    "    this_rep_profile = np.vstack([new_pres, new_t, new_dp, new_u, new_v, new_z]).T\n",
    "\n",
    "    closest_time_index = np.argmin(np.abs(tfm.time.data - this_dt))\n",
    "    if sbf == -1:\n",
    "        # This is a maritime sounding\n",
    "        maritime_representative_profile[closest_time_index, :, :] = this_rep_profile\n",
    "        if last_maritime_profile_time_index != -1:\n",
    "            maritime_representative_profile[last_maritime_profile_time_index+1:closest_time_index, :, :] = interp_sounding_times(tfm.time.data, last_maritime_profile_time_index, closest_time_index, maritime_representative_profile)\n",
    "        else:\n",
    "            maritime_representative_profile[0:closest_time_index, :, :] = this_rep_profile\n",
    "        last_maritime_profile_time_index = closest_time_index\n",
    "    elif sbf == -2:\n",
    "        # This is a continental sounding\n",
    "        print(f'Found a continental sounding at {this_dt}')\n",
    "        continental_representative_profile[closest_time_index, :, :] = this_rep_profile\n",
    "        if last_continental_profile_time_index != -1:\n",
    "            continental_representative_profile[last_continental_profile_time_index+1:closest_time_index, :, :] = interp_sounding_times(tfm.time.data, last_continental_profile_time_index, closest_time_index, continental_representative_profile)\n",
    "        else:\n",
    "            print('This is the first sounding, setting the first profile from the beginning of the dataset to now')\n",
    "            print(f'Closest TFM time is {tfm.time.data[closest_time_index]}')\n",
    "            continental_representative_profile[0:closest_time_index, :, :] = this_rep_profile\n",
    "        last_continental_profile_time_index = closest_time_index"
   ]
  },
  {
   "cell_type": "code",
   "execution_count": 9,
   "metadata": {},
   "outputs": [
    {
     "data": {
      "text/plain": [
       "np.int64(276)"
      ]
     },
     "execution_count": 9,
     "metadata": {},
     "output_type": "execute_result"
    }
   ],
   "source": [
    "last_continental_profile_time_index"
   ]
  },
  {
   "cell_type": "code",
   "execution_count": 10,
   "metadata": {},
   "outputs": [],
   "source": [
    "continental_representative_profile[last_continental_profile_time_index+1:, :, :] = continental_representative_profile[last_continental_profile_time_index, :, :]\n",
    "maritime_representative_profile[last_maritime_profile_time_index+1:, :, :] = maritime_representative_profile[last_maritime_profile_time_index, :, :]\n",
    "\n",
    "new_maritime_vars = {'maritime_pressure_profile' : (('time', 'vertical_levels'), maritime_representative_profile[:, :, 0]),\n",
    "    'maritime_temperature_profile' : (('time', 'vertical_levels'), maritime_representative_profile[:, :, 1]),\n",
    "    'maritime_dewpoint_profile' : (('time', 'vertical_levels'), maritime_representative_profile[:, :, 2]),\n",
    "    'maritime_u_profile' : (('time', 'vertical_levels'), maritime_representative_profile[:, :, 3]),\n",
    "    'maritime_v_profile' : (('time', 'vertical_levels'), maritime_representative_profile[:, :, 4]),\n",
    "    'maritime_msl_profile' : (('time', 'vertical_levels'), maritime_representative_profile[:, :, 5])\n",
    "    }\n",
    "\n",
    "new_continental_vars = {\n",
    "        'continental_pressure_profile' : (('time', 'vertical_levels'), continental_representative_profile[:, :, 0]),\n",
    "        'continental_temperature_profile' : (('time', 'vertical_levels'), continental_representative_profile[:, :, 1]),\n",
    "        'continental_dewpoint_profile' : (('time', 'vertical_levels'), continental_representative_profile[:, :, 2]),\n",
    "        'continental_u_profile' : (('time', 'vertical_levels'), continental_representative_profile[:, :, 3]),\n",
    "        'continental_v_profile' : (('time', 'vertical_levels'), continental_representative_profile[:, :, 4]),\n",
    "        'continental_msl_profile' : (('time', 'vertical_levels'), continental_representative_profile[:, :, 5])\n",
    "    }\n",
    "\n",
    "tfm_w_profiles = tfm.copy().assign_coords(vertical_levels=np.arange(n_sounding_levels)).assign(new_maritime_vars).assign(new_continental_vars)"
   ]
  },
  {
   "cell_type": "code",
   "execution_count": 11,
   "metadata": {},
   "outputs": [],
   "source": [
    "new_maritime_vars = {'maritime_pressure_profile' : (('time', 'vertical_levels'), maritime_representative_profile[:, :, 0]),\n",
    "     'maritime_temperature_profile' : (('time', 'vertical_levels'), maritime_representative_profile[:, :, 1]),\n",
    "     'maritime_dewpoint_profile' : (('time', 'vertical_levels'), maritime_representative_profile[:, :, 2]),\n",
    "     'maritime_u_profile' : (('time', 'vertical_levels'), maritime_representative_profile[:, :, 3]),\n",
    "     'maritime_v_profile' : (('time', 'vertical_levels'), maritime_representative_profile[:, :, 4]),\n",
    "     'maritime_msl_profile' : (('time', 'vertical_levels'), maritime_representative_profile[:, :, 5])\n",
    "     }\n",
    "\n",
    "new_continental_vars = {\n",
    "        'continental_pressure_profile' : (('time', 'vertical_levels'), continental_representative_profile[:, :, 0]),\n",
    "        'continental_temperature_profile' : (('time', 'vertical_levels'), continental_representative_profile[:, :, 1]),\n",
    "        'continental_dewpoint_profile' : (('time', 'vertical_levels'), continental_representative_profile[:, :, 2]),\n",
    "        'continental_u_profile' : (('time', 'vertical_levels'), continental_representative_profile[:, :, 3]),\n",
    "        'continental_v_profile' : (('time', 'vertical_levels'), continental_representative_profile[:, :, 4]),\n",
    "        'continental_msl_profile' : (('time', 'vertical_levels'), continental_representative_profile[:, :, 5])\n",
    "    }\n",
    "\n",
    "tfm_w_profiles = tfm.copy().assign_coords(vertical_levels=np.arange(n_sounding_levels)).assign(new_maritime_vars).assign(new_continental_vars)"
   ]
  },
  {
   "cell_type": "code",
   "execution_count": 12,
   "metadata": {},
   "outputs": [],
   "source": [
    "for var in new_maritime_vars.keys():\n",
    "    tfm_w_profiles[var].attrs['units'] = 'hPa' if 'pressure' in var else 'C' if 'temperature' in var else 'm/s' if 'u' in var or 'v' in var else 'm'\n",
    "\n",
    "for var in new_continental_vars.keys():\n",
    "    tfm_w_profiles[var].attrs['units'] = 'hPa' if 'pressure' in var else 'C' if 'temperature' in var else 'm/s' if 'u' in var or 'v' in var else 'm'"
   ]
  },
  {
   "cell_type": "code",
   "execution_count": 13,
   "metadata": {},
   "outputs": [],
   "source": [
    "tfm_w_profiles.attrs['soundings_used'] = [path.basename(f) for f in all_sonde_files]"
   ]
  }
 ],
 "metadata": {
  "kernelspec": {
   "display_name": "Python 3",
   "language": "python",
   "name": "python3"
  },
  "language_info": {
   "codemirror_mode": {
    "name": "ipython",
    "version": 3
   },
   "file_extension": ".py",
   "mimetype": "text/x-python",
   "name": "python",
   "nbconvert_exporter": "python",
   "pygments_lexer": "ipython3",
   "version": "3.12.7"
  }
 },
 "nbformat": 4,
 "nbformat_minor": 2
}

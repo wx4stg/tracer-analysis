{
 "cells": [
  {
   "cell_type": "code",
   "execution_count": 27,
   "metadata": {},
   "outputs": [],
   "source": [
    "import xarray as xr\n",
    "from datetime import datetime as dt\n",
    "import numpy as np\n",
    "from os import listdir, path"
   ]
  },
  {
   "cell_type": "code",
   "execution_count": 3,
   "metadata": {},
   "outputs": [],
   "source": [
    "date_i_want = dt(2022, 6, 2)\n",
    "\n",
    "tfm = xr.open_dataset(f'/Volumes/LtgSSD/tobac_saves/tobac_Save_{date_i_want.strftime('%Y%m%d')}/Track_features_merges.nc', chunks='auto')"
   ]
  },
  {
   "cell_type": "code",
   "execution_count": 51,
   "metadata": {},
   "outputs": [],
   "source": [
    "radar_top_path = f'/Volumes/LtgSSD/nexrad_zarr/{date_i_want.strftime('%B').upper()}/{date_i_want.strftime('%Y%m%d')}/'\n",
    "radar_files = listdir(radar_top_path)\n",
    "radar_dts = [dt.strptime(rf, 'KHGX%Y%m%d_%H%M%S_V06_grid.zarr') for rf in radar_files if rf.endswith('.zarr')]\n",
    "radar_dts = np.array(radar_dts).astype('datetime64[s]').astype(dt)\n",
    "radar_files = [path.join(radar_top_path, rf) for rf in radar_files if rf.endswith('.zarr')]"
   ]
  },
  {
   "cell_type": "code",
   "execution_count": null,
   "metadata": {},
   "outputs": [
    {
     "name": "stdout",
     "output_type": "stream",
     "text": [
      "1\n"
     ]
    }
   ],
   "source": [
    "all_feature_eet = xr.zeros_like(tfm.feature)\n",
    "for i, feature_id in enumerate(tfm.feature.data):\n",
    "    print(feature_id)\n",
    "    this_feature = tfm.sel(feature=feature_id)\n",
    "    this_feature_dt = this_feature.feature_time.data.compute().astype('datetime64[s]').item()\n",
    "    radar_path_i_want = radar_files[np.argmin(np.abs(radar_dts - this_feature_dt))]\n",
    "    radar = xr.open_dataset(radar_path_i_want, engine='zarr', chunks='auto')\n",
    "    this_eet = radar.eet_sam.isel(time=0)\n",
    "    this_seg_mask = this_feature.sel(time=this_feature_dt, method='nearest').segmentation_mask\n",
    "    feature_eet = np.nanmax(np.where(this_seg_mask.data == feature_id, this_eet, 0)).compute()\n",
    "    all_feature_eet[i] = feature_eet\n"
   ]
  }
 ],
 "metadata": {
  "kernelspec": {
   "display_name": "Python 3",
   "language": "python",
   "name": "python3"
  },
  "language_info": {
   "codemirror_mode": {
    "name": "ipython",
    "version": 3
   },
   "file_extension": ".py",
   "mimetype": "text/x-python",
   "name": "python",
   "nbconvert_exporter": "python",
   "pygments_lexer": "ipython3",
   "version": "3.12.7"
  }
 },
 "nbformat": 4,
 "nbformat_minor": 2
}

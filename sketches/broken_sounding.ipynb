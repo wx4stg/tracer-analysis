{
 "cells": [
  {
   "cell_type": "code",
   "execution_count": 6,
   "metadata": {},
   "outputs": [],
   "source": [
    "import pandas as pd\n",
    "from metpy import calc as mpcalc\n",
    "from metpy.units import units as u"
   ]
  },
  {
   "cell_type": "code",
   "execution_count": 4,
   "metadata": {},
   "outputs": [],
   "source": [
    "borked_sounding = pd.read_csv('test_df.csv', index_col=0)"
   ]
  },
  {
   "cell_type": "code",
   "execution_count": 5,
   "metadata": {},
   "outputs": [
    {
     "data": {
      "text/html": [
       "<div>\n",
       "<style scoped>\n",
       "    .dataframe tbody tr th:only-of-type {\n",
       "        vertical-align: middle;\n",
       "    }\n",
       "\n",
       "    .dataframe tbody tr th {\n",
       "        vertical-align: top;\n",
       "    }\n",
       "\n",
       "    .dataframe thead th {\n",
       "        text-align: right;\n",
       "    }\n",
       "</style>\n",
       "<table border=\"1\" class=\"dataframe\">\n",
       "  <thead>\n",
       "    <tr style=\"text-align: right;\">\n",
       "      <th></th>\n",
       "      <th>temp</th>\n",
       "      <th>dew</th>\n",
       "      <th>pressure</th>\n",
       "      <th>height</th>\n",
       "      <th>u</th>\n",
       "      <th>v</th>\n",
       "    </tr>\n",
       "  </thead>\n",
       "  <tbody>\n",
       "    <tr>\n",
       "      <th>0</th>\n",
       "      <td>29.299999</td>\n",
       "      <td>23.290001</td>\n",
       "      <td>1016.900024</td>\n",
       "      <td>7.400000</td>\n",
       "      <td>-0.076324</td>\n",
       "      <td>-0.392651</td>\n",
       "    </tr>\n",
       "    <tr>\n",
       "      <th>1</th>\n",
       "      <td>29.351574</td>\n",
       "      <td>23.147554</td>\n",
       "      <td>1016.705994</td>\n",
       "      <td>9.094616</td>\n",
       "      <td>-0.030641</td>\n",
       "      <td>-0.515606</td>\n",
       "    </tr>\n",
       "    <tr>\n",
       "      <th>2</th>\n",
       "      <td>29.403166</td>\n",
       "      <td>23.005064</td>\n",
       "      <td>1016.511902</td>\n",
       "      <td>10.789763</td>\n",
       "      <td>0.015056</td>\n",
       "      <td>-0.638601</td>\n",
       "    </tr>\n",
       "    <tr>\n",
       "      <th>3</th>\n",
       "      <td>29.454742</td>\n",
       "      <td>22.862617</td>\n",
       "      <td>1016.317871</td>\n",
       "      <td>12.484379</td>\n",
       "      <td>0.060738</td>\n",
       "      <td>-0.761556</td>\n",
       "    </tr>\n",
       "    <tr>\n",
       "      <th>4</th>\n",
       "      <td>29.506317</td>\n",
       "      <td>22.720171</td>\n",
       "      <td>1016.123840</td>\n",
       "      <td>14.178994</td>\n",
       "      <td>0.106420</td>\n",
       "      <td>-0.884512</td>\n",
       "    </tr>\n",
       "    <tr>\n",
       "      <th>...</th>\n",
       "      <td>...</td>\n",
       "      <td>...</td>\n",
       "      <td>...</td>\n",
       "      <td>...</td>\n",
       "      <td>...</td>\n",
       "      <td>...</td>\n",
       "    </tr>\n",
       "    <tr>\n",
       "      <th>1995</th>\n",
       "      <td>5.676508</td>\n",
       "      <td>5.676508</td>\n",
       "      <td>629.776184</td>\n",
       "      <td>4090.217529</td>\n",
       "      <td>-4.144835</td>\n",
       "      <td>3.197312</td>\n",
       "    </tr>\n",
       "    <tr>\n",
       "      <th>1996</th>\n",
       "      <td>5.670000</td>\n",
       "      <td>5.670000</td>\n",
       "      <td>629.582153</td>\n",
       "      <td>4092.764404</td>\n",
       "      <td>-4.256151</td>\n",
       "      <td>3.186940</td>\n",
       "    </tr>\n",
       "    <tr>\n",
       "      <th>1997</th>\n",
       "      <td>5.667758</td>\n",
       "      <td>5.667758</td>\n",
       "      <td>629.388062</td>\n",
       "      <td>4095.164551</td>\n",
       "      <td>-4.378906</td>\n",
       "      <td>3.172592</td>\n",
       "    </tr>\n",
       "    <tr>\n",
       "      <th>1998</th>\n",
       "      <td>5.615286</td>\n",
       "      <td>5.615286</td>\n",
       "      <td>629.194092</td>\n",
       "      <td>4097.765137</td>\n",
       "      <td>-4.572846</td>\n",
       "      <td>3.117709</td>\n",
       "    </tr>\n",
       "    <tr>\n",
       "      <th>1999</th>\n",
       "      <td>5.460000</td>\n",
       "      <td>5.460000</td>\n",
       "      <td>629.000000</td>\n",
       "      <td>4100.299805</td>\n",
       "      <td>-5.022947</td>\n",
       "      <td>2.900000</td>\n",
       "    </tr>\n",
       "  </tbody>\n",
       "</table>\n",
       "<p>2000 rows × 6 columns</p>\n",
       "</div>"
      ],
      "text/plain": [
       "           temp        dew     pressure       height         u         v\n",
       "0     29.299999  23.290001  1016.900024     7.400000 -0.076324 -0.392651\n",
       "1     29.351574  23.147554  1016.705994     9.094616 -0.030641 -0.515606\n",
       "2     29.403166  23.005064  1016.511902    10.789763  0.015056 -0.638601\n",
       "3     29.454742  22.862617  1016.317871    12.484379  0.060738 -0.761556\n",
       "4     29.506317  22.720171  1016.123840    14.178994  0.106420 -0.884512\n",
       "...         ...        ...          ...          ...       ...       ...\n",
       "1995   5.676508   5.676508   629.776184  4090.217529 -4.144835  3.197312\n",
       "1996   5.670000   5.670000   629.582153  4092.764404 -4.256151  3.186940\n",
       "1997   5.667758   5.667758   629.388062  4095.164551 -4.378906  3.172592\n",
       "1998   5.615286   5.615286   629.194092  4097.765137 -4.572846  3.117709\n",
       "1999   5.460000   5.460000   629.000000  4100.299805 -5.022947  2.900000\n",
       "\n",
       "[2000 rows x 6 columns]"
      ]
     },
     "execution_count": 5,
     "metadata": {},
     "output_type": "execute_result"
    }
   ],
   "source": [
    "borked_sounding"
   ]
  },
  {
   "cell_type": "code",
   "execution_count": 8,
   "metadata": {},
   "outputs": [
    {
     "data": {
      "text/plain": [
       "(<Quantity(nan, 'hectopascal')>, <Quantity(nan, 'degree_Celsius')>)"
      ]
     },
     "execution_count": 8,
     "metadata": {},
     "output_type": "execute_result"
    }
   ],
   "source": [
    "mpcalc.el(borked_sounding['pressure'].values * u.hPa,\n",
    "          borked_sounding['temp'].values * u.degC,\n",
    "          borked_sounding['dew'].values * u.degC)"
   ]
  },
  {
   "cell_type": "code",
   "execution_count": 10,
   "metadata": {},
   "outputs": [
    {
     "ename": "ValueError",
     "evalue": "Specified bound is outside height range.",
     "output_type": "error",
     "traceback": [
      "\u001b[0;31m---------------------------------------------------------------------------\u001b[0m",
      "\u001b[0;31mValueError\u001b[0m                                Traceback (most recent call last)",
      "Cell \u001b[0;32mIn[10], line 1\u001b[0m\n\u001b[0;32m----> 1\u001b[0m \u001b[43mmpcalc\u001b[49m\u001b[38;5;241;43m.\u001b[39;49m\u001b[43mbunkers_storm_motion\u001b[49m\u001b[43m(\u001b[49m\u001b[43mborked_sounding\u001b[49m\u001b[43m[\u001b[49m\u001b[38;5;124;43m'\u001b[39;49m\u001b[38;5;124;43mpressure\u001b[39;49m\u001b[38;5;124;43m'\u001b[39;49m\u001b[43m]\u001b[49m\u001b[38;5;241;43m.\u001b[39;49m\u001b[43mvalues\u001b[49m\u001b[43m \u001b[49m\u001b[38;5;241;43m*\u001b[39;49m\u001b[43m \u001b[49m\u001b[43mu\u001b[49m\u001b[38;5;241;43m.\u001b[39;49m\u001b[43mhPa\u001b[49m\u001b[43m,\u001b[49m\n\u001b[1;32m      2\u001b[0m \u001b[43m                            \u001b[49m\u001b[43mborked_sounding\u001b[49m\u001b[43m[\u001b[49m\u001b[38;5;124;43m'\u001b[39;49m\u001b[38;5;124;43mu\u001b[39;49m\u001b[38;5;124;43m'\u001b[39;49m\u001b[43m]\u001b[49m\u001b[38;5;241;43m.\u001b[39;49m\u001b[43mvalues\u001b[49m\u001b[43m \u001b[49m\u001b[38;5;241;43m*\u001b[39;49m\u001b[43m \u001b[49m\u001b[43mu\u001b[49m\u001b[38;5;241;43m.\u001b[39;49m\u001b[43mmeter\u001b[49m\u001b[43m \u001b[49m\u001b[38;5;241;43m/\u001b[39;49m\u001b[43m \u001b[49m\u001b[43mu\u001b[49m\u001b[38;5;241;43m.\u001b[39;49m\u001b[43msecond\u001b[49m\u001b[43m,\u001b[49m\n\u001b[1;32m      3\u001b[0m \u001b[43m                            \u001b[49m\u001b[43mborked_sounding\u001b[49m\u001b[43m[\u001b[49m\u001b[38;5;124;43m'\u001b[39;49m\u001b[38;5;124;43mv\u001b[39;49m\u001b[38;5;124;43m'\u001b[39;49m\u001b[43m]\u001b[49m\u001b[38;5;241;43m.\u001b[39;49m\u001b[43mvalues\u001b[49m\u001b[43m \u001b[49m\u001b[38;5;241;43m*\u001b[39;49m\u001b[43m \u001b[49m\u001b[43mu\u001b[49m\u001b[38;5;241;43m.\u001b[39;49m\u001b[43mmeter\u001b[49m\u001b[43m \u001b[49m\u001b[38;5;241;43m/\u001b[39;49m\u001b[43m \u001b[49m\u001b[43mu\u001b[49m\u001b[38;5;241;43m.\u001b[39;49m\u001b[43msecond\u001b[49m\u001b[43m,\u001b[49m\n\u001b[1;32m      4\u001b[0m \u001b[43m                            \u001b[49m\u001b[43mborked_sounding\u001b[49m\u001b[43m[\u001b[49m\u001b[38;5;124;43m'\u001b[39;49m\u001b[38;5;124;43mheight\u001b[39;49m\u001b[38;5;124;43m'\u001b[39;49m\u001b[43m]\u001b[49m\u001b[38;5;241;43m.\u001b[39;49m\u001b[43mvalues\u001b[49m\u001b[43m \u001b[49m\u001b[38;5;241;43m*\u001b[39;49m\u001b[43m \u001b[49m\u001b[43mu\u001b[49m\u001b[38;5;241;43m.\u001b[39;49m\u001b[43mmeter\u001b[49m\u001b[43m)\u001b[49m\n",
      "File \u001b[0;32m~/micromamba/envs/tracer/lib/python3.12/site-packages/metpy/xarray.py:1330\u001b[0m, in \u001b[0;36mpreprocess_and_wrap.<locals>.decorator.<locals>.wrapper\u001b[0;34m(*args, **kwargs)\u001b[0m\n\u001b[1;32m   1327\u001b[0m     _mutate_arguments(bound_args, units\u001b[38;5;241m.\u001b[39mQuantity, \u001b[38;5;28;01mlambda\u001b[39;00m arg, _: arg\u001b[38;5;241m.\u001b[39mm)\n\u001b[1;32m   1329\u001b[0m \u001b[38;5;66;03m# Evaluate inner calculation\u001b[39;00m\n\u001b[0;32m-> 1330\u001b[0m result \u001b[38;5;241m=\u001b[39m \u001b[43mfunc\u001b[49m\u001b[43m(\u001b[49m\u001b[38;5;241;43m*\u001b[39;49m\u001b[43mbound_args\u001b[49m\u001b[38;5;241;43m.\u001b[39;49m\u001b[43margs\u001b[49m\u001b[43m,\u001b[49m\u001b[43m \u001b[49m\u001b[38;5;241;43m*\u001b[39;49m\u001b[38;5;241;43m*\u001b[39;49m\u001b[43mbound_args\u001b[49m\u001b[38;5;241;43m.\u001b[39;49m\u001b[43mkwargs\u001b[49m\u001b[43m)\u001b[49m\n\u001b[1;32m   1332\u001b[0m \u001b[38;5;66;03m# Wrap output based on match and match_unit\u001b[39;00m\n\u001b[1;32m   1333\u001b[0m \u001b[38;5;28;01mif\u001b[39;00m match \u001b[38;5;129;01mis\u001b[39;00m \u001b[38;5;28;01mNone\u001b[39;00m:\n",
      "File \u001b[0;32m~/micromamba/envs/tracer/lib/python3.12/site-packages/metpy/units.py:333\u001b[0m, in \u001b[0;36mcheck_units.<locals>.dec.<locals>.wrapper\u001b[0;34m(*args, **kwargs)\u001b[0m\n\u001b[1;32m    330\u001b[0m \u001b[38;5;129m@functools\u001b[39m\u001b[38;5;241m.\u001b[39mwraps(func)\n\u001b[1;32m    331\u001b[0m \u001b[38;5;28;01mdef\u001b[39;00m\u001b[38;5;250m \u001b[39m\u001b[38;5;21mwrapper\u001b[39m(\u001b[38;5;241m*\u001b[39margs, \u001b[38;5;241m*\u001b[39m\u001b[38;5;241m*\u001b[39mkwargs):\n\u001b[1;32m    332\u001b[0m     _check_units_inner_helper(func, sig, defaults, dims, \u001b[38;5;241m*\u001b[39margs, \u001b[38;5;241m*\u001b[39m\u001b[38;5;241m*\u001b[39mkwargs)\n\u001b[0;32m--> 333\u001b[0m     \u001b[38;5;28;01mreturn\u001b[39;00m \u001b[43mfunc\u001b[49m\u001b[43m(\u001b[49m\u001b[38;5;241;43m*\u001b[39;49m\u001b[43margs\u001b[49m\u001b[43m,\u001b[49m\u001b[43m \u001b[49m\u001b[38;5;241;43m*\u001b[39;49m\u001b[38;5;241;43m*\u001b[39;49m\u001b[43mkwargs\u001b[49m\u001b[43m)\u001b[49m\n",
      "File \u001b[0;32m~/micromamba/envs/tracer/lib/python3.12/site-packages/metpy/calc/indices.py:312\u001b[0m, in \u001b[0;36mbunkers_storm_motion\u001b[0;34m(pressure, u, v, height)\u001b[0m\n\u001b[1;32m    309\u001b[0m pressure, u, v, height \u001b[38;5;241m=\u001b[39m _remove_nans(pressure, u, v, height)\n\u001b[1;32m    311\u001b[0m \u001b[38;5;66;03m# mean wind from sfc-6km\u001b[39;00m\n\u001b[0;32m--> 312\u001b[0m wind_mean \u001b[38;5;241m=\u001b[39m \u001b[43mweighted_continuous_average\u001b[49m\u001b[43m(\u001b[49m\u001b[43mpressure\u001b[49m\u001b[43m,\u001b[49m\u001b[43m \u001b[49m\u001b[43mu\u001b[49m\u001b[43m,\u001b[49m\u001b[43m \u001b[49m\u001b[43mv\u001b[49m\u001b[43m,\u001b[49m\u001b[43m \u001b[49m\u001b[43mheight\u001b[49m\u001b[38;5;241;43m=\u001b[39;49m\u001b[43mheight\u001b[49m\u001b[43m,\u001b[49m\n\u001b[1;32m    313\u001b[0m \u001b[43m                                        \u001b[49m\u001b[43mdepth\u001b[49m\u001b[38;5;241;43m=\u001b[39;49m\u001b[43munits\u001b[49m\u001b[38;5;241;43m.\u001b[39;49m\u001b[43mQuantity\u001b[49m\u001b[43m(\u001b[49m\u001b[38;5;241;43m6000\u001b[39;49m\u001b[43m,\u001b[49m\u001b[43m \u001b[49m\u001b[38;5;124;43m'\u001b[39;49m\u001b[38;5;124;43mmeter\u001b[39;49m\u001b[38;5;124;43m'\u001b[39;49m\u001b[43m)\u001b[49m\u001b[43m)\u001b[49m\n\u001b[1;32m    315\u001b[0m wind_mean \u001b[38;5;241m=\u001b[39m units\u001b[38;5;241m.\u001b[39mQuantity\u001b[38;5;241m.\u001b[39mfrom_list(wind_mean)\n\u001b[1;32m    317\u001b[0m \u001b[38;5;66;03m# mean wind from sfc-500m\u001b[39;00m\n",
      "File \u001b[0;32m~/micromamba/envs/tracer/lib/python3.12/site-packages/metpy/xarray.py:1330\u001b[0m, in \u001b[0;36mpreprocess_and_wrap.<locals>.decorator.<locals>.wrapper\u001b[0;34m(*args, **kwargs)\u001b[0m\n\u001b[1;32m   1327\u001b[0m     _mutate_arguments(bound_args, units\u001b[38;5;241m.\u001b[39mQuantity, \u001b[38;5;28;01mlambda\u001b[39;00m arg, _: arg\u001b[38;5;241m.\u001b[39mm)\n\u001b[1;32m   1329\u001b[0m \u001b[38;5;66;03m# Evaluate inner calculation\u001b[39;00m\n\u001b[0;32m-> 1330\u001b[0m result \u001b[38;5;241m=\u001b[39m \u001b[43mfunc\u001b[49m\u001b[43m(\u001b[49m\u001b[38;5;241;43m*\u001b[39;49m\u001b[43mbound_args\u001b[49m\u001b[38;5;241;43m.\u001b[39;49m\u001b[43margs\u001b[49m\u001b[43m,\u001b[49m\u001b[43m \u001b[49m\u001b[38;5;241;43m*\u001b[39;49m\u001b[38;5;241;43m*\u001b[39;49m\u001b[43mbound_args\u001b[49m\u001b[38;5;241;43m.\u001b[39;49m\u001b[43mkwargs\u001b[49m\u001b[43m)\u001b[49m\n\u001b[1;32m   1332\u001b[0m \u001b[38;5;66;03m# Wrap output based on match and match_unit\u001b[39;00m\n\u001b[1;32m   1333\u001b[0m \u001b[38;5;28;01mif\u001b[39;00m match \u001b[38;5;129;01mis\u001b[39;00m \u001b[38;5;28;01mNone\u001b[39;00m:\n",
      "File \u001b[0;32m~/micromamba/envs/tracer/lib/python3.12/site-packages/metpy/units.py:333\u001b[0m, in \u001b[0;36mcheck_units.<locals>.dec.<locals>.wrapper\u001b[0;34m(*args, **kwargs)\u001b[0m\n\u001b[1;32m    330\u001b[0m \u001b[38;5;129m@functools\u001b[39m\u001b[38;5;241m.\u001b[39mwraps(func)\n\u001b[1;32m    331\u001b[0m \u001b[38;5;28;01mdef\u001b[39;00m\u001b[38;5;250m \u001b[39m\u001b[38;5;21mwrapper\u001b[39m(\u001b[38;5;241m*\u001b[39margs, \u001b[38;5;241m*\u001b[39m\u001b[38;5;241m*\u001b[39mkwargs):\n\u001b[1;32m    332\u001b[0m     _check_units_inner_helper(func, sig, defaults, dims, \u001b[38;5;241m*\u001b[39margs, \u001b[38;5;241m*\u001b[39m\u001b[38;5;241m*\u001b[39mkwargs)\n\u001b[0;32m--> 333\u001b[0m     \u001b[38;5;28;01mreturn\u001b[39;00m \u001b[43mfunc\u001b[49m\u001b[43m(\u001b[49m\u001b[38;5;241;43m*\u001b[39;49m\u001b[43margs\u001b[49m\u001b[43m,\u001b[49m\u001b[43m \u001b[49m\u001b[38;5;241;43m*\u001b[39;49m\u001b[38;5;241;43m*\u001b[39;49m\u001b[43mkwargs\u001b[49m\u001b[43m)\u001b[49m\n",
      "File \u001b[0;32m~/micromamba/envs/tracer/lib/python3.12/site-packages/metpy/calc/indices.py:233\u001b[0m, in \u001b[0;36mweighted_continuous_average\u001b[0;34m(pressure, height, bottom, depth, *args)\u001b[0m\n\u001b[1;32m    184\u001b[0m \u001b[38;5;250m\u001b[39m\u001b[38;5;124mr\u001b[39m\u001b[38;5;124;03m\"\"\"Calculate weighted-continuous mean of an arbitrary variable through a layer.\u001b[39;00m\n\u001b[1;32m    185\u001b[0m \n\u001b[1;32m    186\u001b[0m \u001b[38;5;124;03mLayer top and bottom specified in height or pressure.\u001b[39;00m\n\u001b[0;32m   (...)\u001b[0m\n\u001b[1;32m    230\u001b[0m \n\u001b[1;32m    231\u001b[0m \u001b[38;5;124;03m\"\"\"\u001b[39;00m\n\u001b[1;32m    232\u001b[0m \u001b[38;5;66;03m# Split pressure profile from other variables to average\u001b[39;00m\n\u001b[0;32m--> 233\u001b[0m pres_prof, \u001b[38;5;241m*\u001b[39mothers \u001b[38;5;241m=\u001b[39m \u001b[43mget_layer\u001b[49m\u001b[43m(\u001b[49m\n\u001b[1;32m    234\u001b[0m \u001b[43m    \u001b[49m\u001b[43mpressure\u001b[49m\u001b[43m,\u001b[49m\u001b[43m \u001b[49m\u001b[38;5;241;43m*\u001b[39;49m\u001b[43margs\u001b[49m\u001b[43m,\u001b[49m\u001b[43m \u001b[49m\u001b[43mheight\u001b[49m\u001b[38;5;241;43m=\u001b[39;49m\u001b[43mheight\u001b[49m\u001b[43m,\u001b[49m\u001b[43m \u001b[49m\u001b[43mbottom\u001b[49m\u001b[38;5;241;43m=\u001b[39;49m\u001b[43mbottom\u001b[49m\u001b[43m,\u001b[49m\u001b[43m \u001b[49m\u001b[43mdepth\u001b[49m\u001b[38;5;241;43m=\u001b[39;49m\u001b[43mdepth\u001b[49m\n\u001b[1;32m    235\u001b[0m \u001b[43m\u001b[49m\u001b[43m)\u001b[49m\n\u001b[1;32m    237\u001b[0m \u001b[38;5;28;01mreturn\u001b[39;00m [trapezoid(var_prof, x\u001b[38;5;241m=\u001b[39mpres_prof) \u001b[38;5;241m/\u001b[39m (pres_prof[\u001b[38;5;241m-\u001b[39m\u001b[38;5;241m1\u001b[39m] \u001b[38;5;241m-\u001b[39m pres_prof[\u001b[38;5;241m0\u001b[39m])\n\u001b[1;32m    238\u001b[0m         \u001b[38;5;28;01mfor\u001b[39;00m var_prof \u001b[38;5;129;01min\u001b[39;00m others]\n",
      "File \u001b[0;32m~/micromamba/envs/tracer/lib/python3.12/site-packages/metpy/xarray.py:1330\u001b[0m, in \u001b[0;36mpreprocess_and_wrap.<locals>.decorator.<locals>.wrapper\u001b[0;34m(*args, **kwargs)\u001b[0m\n\u001b[1;32m   1327\u001b[0m     _mutate_arguments(bound_args, units\u001b[38;5;241m.\u001b[39mQuantity, \u001b[38;5;28;01mlambda\u001b[39;00m arg, _: arg\u001b[38;5;241m.\u001b[39mm)\n\u001b[1;32m   1329\u001b[0m \u001b[38;5;66;03m# Evaluate inner calculation\u001b[39;00m\n\u001b[0;32m-> 1330\u001b[0m result \u001b[38;5;241m=\u001b[39m \u001b[43mfunc\u001b[49m\u001b[43m(\u001b[49m\u001b[38;5;241;43m*\u001b[39;49m\u001b[43mbound_args\u001b[49m\u001b[38;5;241;43m.\u001b[39;49m\u001b[43margs\u001b[49m\u001b[43m,\u001b[49m\u001b[43m \u001b[49m\u001b[38;5;241;43m*\u001b[39;49m\u001b[38;5;241;43m*\u001b[39;49m\u001b[43mbound_args\u001b[49m\u001b[38;5;241;43m.\u001b[39;49m\u001b[43mkwargs\u001b[49m\u001b[43m)\u001b[49m\n\u001b[1;32m   1332\u001b[0m \u001b[38;5;66;03m# Wrap output based on match and match_unit\u001b[39;00m\n\u001b[1;32m   1333\u001b[0m \u001b[38;5;28;01mif\u001b[39;00m match \u001b[38;5;129;01mis\u001b[39;00m \u001b[38;5;28;01mNone\u001b[39;00m:\n",
      "File \u001b[0;32m~/micromamba/envs/tracer/lib/python3.12/site-packages/metpy/units.py:333\u001b[0m, in \u001b[0;36mcheck_units.<locals>.dec.<locals>.wrapper\u001b[0;34m(*args, **kwargs)\u001b[0m\n\u001b[1;32m    330\u001b[0m \u001b[38;5;129m@functools\u001b[39m\u001b[38;5;241m.\u001b[39mwraps(func)\n\u001b[1;32m    331\u001b[0m \u001b[38;5;28;01mdef\u001b[39;00m\u001b[38;5;250m \u001b[39m\u001b[38;5;21mwrapper\u001b[39m(\u001b[38;5;241m*\u001b[39margs, \u001b[38;5;241m*\u001b[39m\u001b[38;5;241m*\u001b[39mkwargs):\n\u001b[1;32m    332\u001b[0m     _check_units_inner_helper(func, sig, defaults, dims, \u001b[38;5;241m*\u001b[39margs, \u001b[38;5;241m*\u001b[39m\u001b[38;5;241m*\u001b[39mkwargs)\n\u001b[0;32m--> 333\u001b[0m     \u001b[38;5;28;01mreturn\u001b[39;00m \u001b[43mfunc\u001b[49m\u001b[43m(\u001b[49m\u001b[38;5;241;43m*\u001b[39;49m\u001b[43margs\u001b[49m\u001b[43m,\u001b[49m\u001b[43m \u001b[49m\u001b[38;5;241;43m*\u001b[39;49m\u001b[38;5;241;43m*\u001b[39;49m\u001b[43mkwargs\u001b[49m\u001b[43m)\u001b[49m\n",
      "File \u001b[0;32m~/micromamba/envs/tracer/lib/python3.12/site-packages/metpy/calc/tools.py:603\u001b[0m, in \u001b[0;36mget_layer\u001b[0;34m(pressure, height, bottom, depth, interpolate, *args)\u001b[0m\n\u001b[1;32m    600\u001b[0m \u001b[38;5;28;01melse\u001b[39;00m:\n\u001b[1;32m    601\u001b[0m     \u001b[38;5;28;01mraise\u001b[39;00m \u001b[38;5;167;01mValueError\u001b[39;00m(\u001b[38;5;124m'\u001b[39m\u001b[38;5;124mDepth must be specified in units of length or pressure\u001b[39m\u001b[38;5;124m'\u001b[39m)\n\u001b[0;32m--> 603\u001b[0m top_pressure, _ \u001b[38;5;241m=\u001b[39m \u001b[43m_get_bound_pressure_height\u001b[49m\u001b[43m(\u001b[49m\u001b[43mpressure\u001b[49m\u001b[43m,\u001b[49m\u001b[43m \u001b[49m\u001b[43mtop\u001b[49m\u001b[43m,\u001b[49m\u001b[43m \u001b[49m\u001b[43mheight\u001b[49m\u001b[38;5;241;43m=\u001b[39;49m\u001b[43mheight\u001b[49m\u001b[43m,\u001b[49m\n\u001b[1;32m    604\u001b[0m \u001b[43m                                             \u001b[49m\u001b[43minterpolate\u001b[49m\u001b[38;5;241;43m=\u001b[39;49m\u001b[43minterpolate\u001b[49m\u001b[43m)\u001b[49m\n\u001b[1;32m    606\u001b[0m ret \u001b[38;5;241m=\u001b[39m []  \u001b[38;5;66;03m# returned data variables in layer\u001b[39;00m\n\u001b[1;32m    608\u001b[0m \u001b[38;5;66;03m# Ensure pressures are sorted in ascending order\u001b[39;00m\n",
      "File \u001b[0;32m~/micromamba/envs/tracer/lib/python3.12/site-packages/metpy/calc/tools.py:430\u001b[0m, in \u001b[0;36m_get_bound_pressure_height\u001b[0;34m(pressure, bound, height, interpolate)\u001b[0m\n\u001b[1;32m    427\u001b[0m     \u001b[38;5;28;01mraise\u001b[39;00m \u001b[38;5;167;01mValueError\u001b[39;00m(\u001b[38;5;124m'\u001b[39m\u001b[38;5;124mSpecified bound is outside pressure range.\u001b[39m\u001b[38;5;124m'\u001b[39m)\n\u001b[1;32m    428\u001b[0m \u001b[38;5;28;01mif\u001b[39;00m height \u001b[38;5;129;01mis\u001b[39;00m \u001b[38;5;129;01mnot\u001b[39;00m \u001b[38;5;28;01mNone\u001b[39;00m \u001b[38;5;129;01mand\u001b[39;00m \u001b[38;5;129;01mnot\u001b[39;00m (_less_or_close(bound_height, np\u001b[38;5;241m.\u001b[39mnanmax(height))\n\u001b[1;32m    429\u001b[0m                                \u001b[38;5;129;01mand\u001b[39;00m _greater_or_close(bound_height, np\u001b[38;5;241m.\u001b[39mnanmin(height))):\n\u001b[0;32m--> 430\u001b[0m     \u001b[38;5;28;01mraise\u001b[39;00m \u001b[38;5;167;01mValueError\u001b[39;00m(\u001b[38;5;124m'\u001b[39m\u001b[38;5;124mSpecified bound is outside height range.\u001b[39m\u001b[38;5;124m'\u001b[39m)\n\u001b[1;32m    432\u001b[0m \u001b[38;5;28;01mreturn\u001b[39;00m bound_pressure, bound_height\n",
      "\u001b[0;31mValueError\u001b[0m: Specified bound is outside height range."
     ]
    }
   ],
   "source": [
    "mpcalc.bunkers_storm_motion(borked_sounding['pressure'].values * u.hPa,\n",
    "                            borked_sounding['u'].values * u.meter / u.second,\n",
    "                            borked_sounding['v'].values * u.meter / u.second,\n",
    "                            borked_sounding['height'].values * u.meter)"
   ]
  },
  {
   "cell_type": "code",
   "execution_count": null,
   "metadata": {},
   "outputs": [],
   "source": []
  }
 ],
 "metadata": {
  "kernelspec": {
   "display_name": "Python 3",
   "language": "python",
   "name": "python3"
  },
  "language_info": {
   "codemirror_mode": {
    "name": "ipython",
    "version": 3
   },
   "file_extension": ".py",
   "mimetype": "text/x-python",
   "name": "python",
   "nbconvert_exporter": "python",
   "pygments_lexer": "ipython3",
   "version": "3.12.8"
  }
 },
 "nbformat": 4,
 "nbformat_minor": 2
}

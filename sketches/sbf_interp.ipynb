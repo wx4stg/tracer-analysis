{
 "cells": [
  {
   "cell_type": "code",
   "execution_count": 1,
   "metadata": {},
   "outputs": [],
   "source": [
    "import geopandas as gpd\n",
    "import xarray as xr\n",
    "from datetime import datetime as dt\n",
    "import numpy as np\n",
    "from matplotlib.path import Path\n",
    "from shapely.geometry import Polygon\n",
    "from pyxlma import coords\n",
    "import sys\n",
    "\n",
    "from numba import njit"
   ]
  },
  {
   "cell_type": "code",
   "execution_count": 2,
   "metadata": {},
   "outputs": [],
   "source": [
    "date_i_want = dt(2022, 6, 2)\n",
    "tfm_path = f'/Volumes/LtgSSD/tobac_saves/tobac_Save_{date_i_want.strftime(\"%Y%m%d\")}/Track_features_merges_augmented.zarr'\n",
    "tfm = xr.open_dataset(tfm_path, engine='zarr', chunks='auto')\n",
    "polyline_path = f'/Volumes/LtgSSD/analysis/sam_polyline/{date_i_want.strftime(\"%Y-%m-%d\")}.json'\n",
    "polyline = gpd.read_file(polyline_path)\n",
    "polyline = polyline.set_index('index')"
   ]
  },
  {
   "cell_type": "code",
   "execution_count": 3,
   "metadata": {},
   "outputs": [],
   "source": [
    "seabreeze_indices = np.where(np.isin(tfm.time.data.astype('datetime64[s]').astype(dt), polyline.index.values))\n",
    "times_i_have = tfm.time.data[seabreeze_indices].copy()\n",
    "times_i_want = tfm.time.data.copy()\n",
    "times_i_want = times_i_want[(times_i_want > times_i_have[0]) & (times_i_want < times_i_have[-1])]"
   ]
  },
  {
   "cell_type": "code",
   "execution_count": 4,
   "metadata": {},
   "outputs": [],
   "source": [
    "@njit\n",
    "def interpolate_sbf_polygons(longer_polyline, shorter_polyline, times_i_want_between_float, last_time_float, this_time_float, later_is_longer):\n",
    "    interpolated_polys = np.zeros((longer_polyline.shape[0], 2, times_i_want_between_float.shape[0]))\n",
    "    # Pair each vertex of the longer polyline with the closest vertex of the shorter polyline\n",
    "    for i in range(longer_polyline.shape[0]):\n",
    "        # Find distance between this point and all points in the shorter polyline\n",
    "        this_point = longer_polyline[i, :]\n",
    "        distances = np.sum(((shorter_polyline - this_point)**2), axis=1)\n",
    "        # Pair this point with the closest point in the shorter polyline\n",
    "        point_pair = np.argmin(distances)\n",
    "        matching_point = shorter_polyline[point_pair, :]\n",
    "        # Interpolate so that the point moves from the \"this point\" (aka, longer polyline) to the \"matching point\" (aka, shorter polyline)\n",
    "        moving_x = this_point[0] + (times_i_want_between_float - last_time_float) * (matching_point[0] - this_point[0]) / (this_time_float - last_time_float)\n",
    "        moving_y = this_point[1] + (times_i_want_between_float - last_time_float) * (matching_point[1] - this_point[1]) / (this_time_float - last_time_float)\n",
    "        point_in_motion = np.empty((2, moving_x.shape[0]))\n",
    "        point_in_motion[0, :] = moving_x\n",
    "        point_in_motion[1, :] = moving_y\n",
    "        # If the longer polygon is later in time, flip the motion of the point so that it moves from \"previous time\" to \"now\"\n",
    "        if later_is_longer:\n",
    "            interpolated_polys[i, :, :] = point_in_motion[:, ::-1]\n",
    "        else:\n",
    "            interpolated_polys[i, :, :] = point_in_motion\n",
    "    # Duplicate the first point of the interpolated polygon to the last point so that it's a closed polygon\n",
    "    interpolated_polys_repeat = np.concatenate((interpolated_polys, interpolated_polys[0:1, :, :]), axis=0)\n",
    "    return interpolated_polys_repeat"
   ]
  },
  {
   "cell_type": "code",
   "execution_count": 5,
   "metadata": {},
   "outputs": [],
   "source": [
    "for i, this_time in enumerate(times_i_have[1:]):\n",
    "    # Get times in a whole bunch of different formats\n",
    "    this_time_dt = this_time.astype('datetime64[s]').astype(dt)\n",
    "    this_time_float = this_time.astype(float)\n",
    "    last_time = times_i_have[i]\n",
    "    last_time_dt = last_time.astype('datetime64[s]').astype(dt)\n",
    "    last_time_float = last_time.astype(float)\n",
    "    \n",
    "    # Find desired times that are between this_time and last_time\n",
    "    times_i_want_between = times_i_want[(times_i_want > last_time) & (times_i_want < this_time)]\n",
    "    times_i_want_between_dt = times_i_want_between.astype('datetime64[s]').astype(dt)\n",
    "    times_i_want_between_float = times_i_want_between.astype(float)\n",
    "\n",
    "    # Get coordinates of this polyline and the last polyline\n",
    "    this_polyline = polyline[polyline.index == this_time_dt]['geometry'].values[0]\n",
    "    this_polyline_coords = np.array(this_polyline.exterior.coords)[:-1, :]\n",
    "    last_polyline = polyline[polyline.index == last_time_dt]['geometry'].values[0]\n",
    "    last_polyline_coords = np.array(last_polyline.exterior.coords)[:-1, :]\n",
    "    \n",
    "    # Determine which polyline has more vertices\n",
    "    later_is_longer = False\n",
    "    if this_polyline_coords.shape[0] >= last_polyline_coords.shape[0]:\n",
    "        longer_polyline = this_polyline_coords\n",
    "        shorter_polyline = last_polyline_coords\n",
    "        later_is_longer = True\n",
    "    else:\n",
    "        longer_polyline = last_polyline_coords\n",
    "        shorter_polyline = this_polyline_coords\n",
    "    \n",
    "    \n",
    "    interpolated_polys = interpolate_sbf_polygons(longer_polyline, shorter_polyline, times_i_want_between_float, last_time_float, this_time_float, later_is_longer)\n",
    "    for ti, t in enumerate(times_i_want_between_dt):\n",
    "        this_interp_poly = interpolated_polys[:, :, ti]\n",
    "        interp_poly_shape = Polygon(this_interp_poly)\n",
    "        polyline.loc[t, 'geometry'] = interp_poly_shape"
   ]
  },
  {
   "cell_type": "code",
   "execution_count": 6,
   "metadata": {},
   "outputs": [],
   "source": [
    "start_time = np.min(polyline.index.values)\n",
    "end_time = np.max(polyline.index.values)"
   ]
  },
  {
   "cell_type": "code",
   "execution_count": null,
   "metadata": {},
   "outputs": [
    {
     "name": "stdout",
     "output_type": "stream",
     "text": [
      "float32\n"
     ]
    }
   ],
   "source": [
    "lon_wide_1d = np.arange(-98.3, -91+.005, .01)\n",
    "lat_wide_1d = np.arange(25.5, 30+.005, .01)\n",
    "lon_wide, lat_wide = np.meshgrid(lon_wide_1d, lat_wide_1d)\n",
    "all_seabreezes_wide = np.full((lon_wide.shape[0], lon_wide.shape[1], tfm.time.shape[0]), -2, dtype=int)\n",
    "\n",
    "\n",
    "radar_lat, radar_lon = tfm.attrs['center_lat'], tfm.attrs['center_lon']\n",
    "tpcs = coords.TangentPlaneCartesianSystem(ctrLat=radar_lat, ctrLon=radar_lon, ctrAlt=0)\n",
    "geosys = coords.GeographicSystem()\n",
    "x2d, y2d = np.meshgrid(tfm.x.data, tfm.y.data)\n",
    "grid_ecef_coords = tpcs.toECEF(x2d.flatten(), y2d.flatten(), np.zeros_like(x2d).flatten())\n",
    "grid_lon, grid_lat, _ = geosys.fromECEF(*grid_ecef_coords)\n",
    "grid_lon = grid_lon.reshape(x2d.shape)\n",
    "grid_lat = grid_lat.reshape(x2d.shape)\n",
    "\n",
    "tfm = tfm.assign({'lat' : (('x', 'y'), grid_lat), 'lon' : (('x', 'y'), grid_lon)})\n",
    "\n",
    "all_seabreezes_ds = xr.full_like(tfm.segmentation_mask, -2).astype(int)\n",
    "for i, time in enumerate(tfm.time.data):\n",
    "    if time < start_time or time > end_time:\n",
    "        continue\n",
    "    this_seabreeze = np.zeros_like(lon_wide)\n",
    "    time_dt = np.array(time).astype('datetime64[s]').astype(dt).item()\n",
    "    if time_dt in polyline.index.values.astype(dt):\n",
    "        this_polyline = polyline[polyline.index == time_dt]['geometry'].values[0]\n",
    "        this_polyline_mpl = Path(np.array(this_polyline.exterior.coords))\n",
    "        this_seabreeze = this_polyline_mpl.contains_points(np.array([lon_wide.flatten(), lat_wide.flatten()]).T).reshape(lon_wide.shape)\n",
    "        all_seabreezes_wide[:, :, i] = this_seabreeze.astype('float32') - 2\n",
    "        this_seabreeze_ds = this_polyline_mpl.contains_points(np.array([grid_lon.flatten(), grid_lat.flatten()]).T).reshape(grid_lon.shape)\n",
    "        all_seabreezes_ds[i, :, :] = this_seabreeze_ds.astype('float32') - 2\n",
    "    else:\n",
    "        raise ValueError(f'No polyline for {time_dt}')"
   ]
  },
  {
   "cell_type": "code",
   "execution_count": 8,
   "metadata": {},
   "outputs": [],
   "source": [
    "all_seabreezes_wide.shape\n",
    "wide_ds = xr.DataArray(\n",
    "    all_seabreezes_wide,\n",
    "    dims=('latitude', 'longitude', 'time'),\n",
    "    coords={'latitude': lat_wide_1d, 'longitude': lon_wide_1d, 'time': tfm.time}\n",
    ").to_dataset(name='seabreeze')\n",
    "comp = dict(zlib=True, complevel=5)\n",
    "enc = {var: comp for var in wide_ds.data_vars if not np.issubdtype(wide_ds[var].dtype, str)}\n",
    "wide_ds.to_netcdf(polyline_path.replace('.json', '_seabreeze.nc').replace('sam_polyline/', 'sam_sbf/'), encoding=enc)"
   ]
  },
  {
   "cell_type": "code",
   "execution_count": 9,
   "metadata": {},
   "outputs": [
    {
     "name": "stdout",
     "output_type": "stream",
     "text": [
      "Identifying features...\n"
     ]
    }
   ],
   "source": [
    "tfm['seabreeze'] = all_seabreezes_ds\n",
    "print('Identifying features...')\n",
    "feature_seabreeze = xr.zeros_like(tfm.feature)"
   ]
  },
  {
   "cell_type": "code",
   "execution_count": null,
   "metadata": {},
   "outputs": [],
   "source": [
    "for i, feat_id in enumerate(tfm.feature.data):\n",
    "    this_feat = tfm.sel(feature=feat_id)\n",
    "    this_feat_time_idx = this_feat.feature_time_index.data.compute().item()\n",
    "    this_feat_time = tfm.time.data[this_feat_time_idx].astype('datetime64[s]').astype(dt)\n",
    "    if this_feat_time < start_time or this_feat_time > end_time:\n",
    "        continue\n",
    "    this_feat_lon = this_feat.feature_lon.data.compute().item()\n",
    "    this_feat_lat = this_feat.feature_lat.data.compute().item()\n",
    "    this_polyline = polyline[polyline.index.values == this_feat_time]['geometry'].values[0]\n",
    "    this_polyline_mpl = Path(np.array(this_polyline.exterior.coords))\n",
    "    this_seabreeze = int(this_polyline_mpl.contains_point((this_feat_lon, this_feat_lat))) - 2\n",
    "    feature_seabreeze.data[i] = this_seabreeze"
   ]
  }
 ],
 "metadata": {
  "kernelspec": {
   "display_name": "Python 3",
   "language": "python",
   "name": "python3"
  },
  "language_info": {
   "codemirror_mode": {
    "name": "ipython",
    "version": 3
   },
   "file_extension": ".py",
   "mimetype": "text/x-python",
   "name": "python",
   "nbconvert_exporter": "python",
   "pygments_lexer": "ipython3",
   "version": "3.12.7"
  }
 },
 "nbformat": 4,
 "nbformat_minor": 2
}

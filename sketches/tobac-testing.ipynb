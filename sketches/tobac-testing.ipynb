{
 "cells": [
  {
   "cell_type": "code",
   "execution_count": null,
   "metadata": {},
   "outputs": [],
   "source": [
    "from os import path\n",
    "\n",
    "import xarray as xr\n",
    "import numpy as np\n",
    "import pandas as pd\n",
    "from dask import array as da\n",
    "\n",
    "\n",
    "from matplotlib import pyplot as plt\n",
    "\n",
    "import panel as pn\n",
    "import holoviews as hv\n",
    "import geoviews as gv\n",
    "\n",
    "from datetime import datetime as dt, UTC, timedelta\n",
    "from pyxlma import coords\n",
    "\n",
    "\n",
    "from cartopy import crs as ccrs\n",
    "from cartopy import feature as cfeat\n",
    "\n",
    "import cmweather\n",
    "\n",
    "\n",
    "from GOES_temp_tracking import read_tobac_ds, add_goes_data_to_tobac_path\n",
    "\n",
    "pn.extension() \n",
    "hv.extension('bokeh')"
   ]
  },
  {
   "cell_type": "code",
   "execution_count": null,
   "metadata": {},
   "outputs": [],
   "source": [
    "test_x = np.arange(60, 80, 0.1)\n",
    "test_y = np.arange(60, 80, 0.1)\n",
    "fig2 = plt.figure()\n",
    "fig = plt.figure()\n",
    "ax = fig.gca()\n",
    "handle = ax.scatter(test_x, test_y, c=test_y, cmap='BrBG')\n",
    "fig.colorbar(handle, orientation='horizontal', label='Dew Point (F)')\n",
    "fig"
   ]
  },
  {
   "cell_type": "code",
   "execution_count": null,
   "metadata": {},
   "outputs": [],
   "source": [
    "ts = xr.open_dataset('/Volumes/LtgSSD/tobac_saves/tobac_Save_20220602/timeseries_data_melt4700.nc', chunks='auto')\n",
    "ts.reindex(feature=tfm.feature.data, fill_value=np.nan).compute().sel(feature=6).feature_area"
   ]
  },
  {
   "cell_type": "code",
   "execution_count": null,
   "metadata": {},
   "outputs": [],
   "source": [
    "rdr = xr.open_dataset('/Volumes/LtgSSD/nexrad_gridded/JUNE/20220602/KHGX20220602_000522_V06_grid.nc', chunks='auto')\n",
    "rdr\n",
    "radar_data = rdr\n",
    "tpcs = coords.TangentPlaneCartesianSystem(radar_data.origin_latitude.data.compute()[0], radar_data.origin_longitude.data.compute()[0], radar_data.origin_altitude.data.compute()[0])\n",
    "rcs = coords.RadarCoordinateSystem(radar_data.origin_latitude.data.compute()[0], radar_data.origin_longitude.data.compute()[0], radar_data.origin_altitude.data.compute()[0])\n",
    "x3d, y3d, z3d = np.meshgrid(radar_data.x.data, radar_data.y.data, radar_data.z.data)\n",
    "grid_X, grid_Y, grid_Z = tpcs.toECEF(x3d.flatten(), y3d.flatten(), z3d.flatten())\n",
    "grid_r, grid_az, grid_el = rcs.fromECEF(grid_X, grid_Y, grid_Z)\n",
    "grid_el = grid_el.reshape(x3d.shape)\n"
   ]
  },
  {
   "cell_type": "code",
   "execution_count": null,
   "metadata": {},
   "outputs": [],
   "source": [
    "grid_el_closest_05 = grid_el > 0.5"
   ]
  },
  {
   "cell_type": "code",
   "execution_count": null,
   "metadata": {},
   "outputs": [],
   "source": [
    "grid_el_closest_05 = np.argmax(grid_el_closest_05[:, :, :], axis=2)"
   ]
  },
  {
   "cell_type": "code",
   "execution_count": null,
   "metadata": {},
   "outputs": [],
   "source": []
  },
  {
   "cell_type": "code",
   "execution_count": null,
   "metadata": {},
   "outputs": [],
   "source": [
    ".compute()\n",
    "fig = plt.figure()\n",
    "ax = fig.gca()\n",
    "pc = ax.pcolormesh(radar_data.x, radar_data.y, lowest_refl, cmap='ChaseSpectral', vmin=-10, vmax=80)\n",
    "fig.colorbar(pc)"
   ]
  },
  {
   "cell_type": "code",
   "execution_count": null,
   "metadata": {},
   "outputs": [],
   "source": [
    "rdr2 = xr.open_mfdataset('/Volumes/LtgSSD/nexrad_zarr/JUNE/20220602/*.zarr', engine='zarr', chunks='auto')\n",
    "rdr2"
   ]
  },
  {
   "cell_type": "code",
   "execution_count": null,
   "metadata": {},
   "outputs": [],
   "source": [
    "tfm = xr.open_dataset('/Volumes/LtgSSD/tobac_saves/tobac_Save_20220602/Track_features_merges.nc')\n"
   ]
  },
  {
   "cell_type": "code",
   "execution_count": null,
   "metadata": {},
   "outputs": [],
   "source": []
  },
  {
   "cell_type": "code",
   "execution_count": null,
   "metadata": {},
   "outputs": [],
   "source": [
    "tfm"
   ]
  },
  {
   "cell_type": "code",
   "execution_count": null,
   "metadata": {},
   "outputs": [],
   "source": [
    "time_i_want = dt(2022, 6, 2, 18, 0, 0)\n"
   ]
  },
  {
   "cell_type": "code",
   "execution_count": null,
   "metadata": {},
   "outputs": [],
   "source": [
    "tfm2 = xr.open_dataset('/Volumes/LtgSSD/tobac_saves/tobac_Save_20220602/Track_features_merges_augmented2.zarr', chunks='auto')\n",
    "tfm2"
   ]
  },
  {
   "cell_type": "code",
   "execution_count": null,
   "metadata": {},
   "outputs": [],
   "source": [
    "tfm2_filt = tfm2.where((tfm2.feature_time_index == 0).compute(), drop=True)"
   ]
  },
  {
   "cell_type": "code",
   "execution_count": null,
   "metadata": {},
   "outputs": [],
   "source": [
    "tfm2.feature_time_index.data.compute()"
   ]
  },
  {
   "cell_type": "code",
   "execution_count": null,
   "metadata": {},
   "outputs": [],
   "source": [
    "tfm2.feature_time"
   ]
  },
  {
   "cell_type": "code",
   "execution_count": null,
   "metadata": {},
   "outputs": [],
   "source": [
    "min_sats_filt.time.astype(np.float64).data.flatten().shape"
   ]
  },
  {
   "cell_type": "code",
   "execution_count": null,
   "metadata": {},
   "outputs": [],
   "source": [
    "min_sats_filt.feature.data.shape"
   ]
  },
  {
   "cell_type": "code",
   "execution_count": null,
   "metadata": {},
   "outputs": [],
   "source": []
  },
  {
   "cell_type": "code",
   "execution_count": null,
   "metadata": {},
   "outputs": [],
   "source": [
    "time_2d.T.shape"
   ]
  },
  {
   "cell_type": "code",
   "execution_count": null,
   "metadata": {},
   "outputs": [],
   "source": [
    "min_sats_filt.data.shape"
   ]
  },
  {
   "cell_type": "code",
   "execution_count": null,
   "metadata": {},
   "outputs": [],
   "source": []
  },
  {
   "cell_type": "code",
   "execution_count": null,
   "metadata": {},
   "outputs": [],
   "source": [
    "tfm_time = tfm.sel(time=rdr.time.data[0], method='nearest')\n",
    "tfm_time_features = np.unique(tfm_time.segmentation_mask)\n",
    "tfm_time_features\n",
    "for feat in tfm_time_features:\n",
    "    if feat == 0:\n",
    "        continue\n",
    "    locations_of_feature = np.where(tfm_time.segmentation_mask == feat)\n",
    "    print(tfm_time.segmentation_mask.data[locations_of_feature])\n",
    "    # print(tfm_time.segmentation_mask[locations_of_feature].data)\n",
    "    # print(locations_of_feature[0].shape, locations_of_feature[1].shape)\n",
    "    break"
   ]
  },
  {
   "cell_type": "code",
   "execution_count": null,
   "metadata": {},
   "outputs": [],
   "source": []
  },
  {
   "cell_type": "code",
   "execution_count": null,
   "metadata": {},
   "outputs": [],
   "source": [
    "echo_top.plot()"
   ]
  },
  {
   "cell_type": "code",
   "execution_count": null,
   "metadata": {},
   "outputs": [],
   "source": [
    "where18.any(dim='z').plot()"
   ]
  },
  {
   "cell_type": "code",
   "execution_count": null,
   "metadata": {},
   "outputs": [],
   "source": [
    "(rdr.z.max() - )"
   ]
  },
  {
   "cell_type": "code",
   "execution_count": null,
   "metadata": {},
   "outputs": [],
   "source": [
    "test_arr = np.array([False, False, True, True, True])\n",
    "np.argmax(test_arr)"
   ]
  },
  {
   "cell_type": "code",
   "execution_count": null,
   "metadata": {},
   "outputs": [],
   "source": [
    "x = np.array([[1, 0, 1], [0, 1, 0], [1, 0, 1]])\n",
    "ones = np.where(x == 1)\n",
    "only_the_ones = x[ones]\n",
    "# for row, col in zip(*ones):\n",
    "#     print(x[row, col])\n",
    "print(only_the_ones)"
   ]
  },
  {
   "cell_type": "code",
   "execution_count": null,
   "metadata": {},
   "outputs": [],
   "source": [
    "xr.open_dataset('/Volumes/LtgSSD/noaa-goes16/ABI-L2-MCMIPC/2022/152/00/OR_ABI-L2-MCMIPC-M6_G16_s20221520006173_e20221520008546_c20221520009050.nc')"
   ]
  },
  {
   "cell_type": "code",
   "execution_count": null,
   "metadata": {},
   "outputs": [],
   "source": [
    "sat_data_test = xr.open_dataset('~/data/noaa-goes16/ABI-L2-ACHAC/2022/151/23/OR_ABI-L2-ACHAC-M6_G16_s20221512356173_e20221512358546_c20221520002383.nc')\n",
    "sat_data_test.load()"
   ]
  },
  {
   "cell_type": "code",
   "execution_count": null,
   "metadata": {},
   "outputs": [],
   "source": []
  },
  {
   "cell_type": "code",
   "execution_count": null,
   "metadata": {},
   "outputs": [],
   "source": [
    "sat_temps = tfm.min_satellite_temp.data\n",
    "min_min = np.nanmin(sat_temps)\n",
    "print(min_min.compute())\n",
    "max_max = np.nanmax(sat_temps)\n",
    "print(max_max.compute())\n"
   ]
  },
  {
   "cell_type": "code",
   "execution_count": null,
   "metadata": {},
   "outputs": [],
   "source": [
    "fig = plt.figure()\n",
    "ax = plt.axes(projection=ccrs.PlateCarree())\n",
    "ax.pcolormesh(sat_lon, sat_lat, feature_area_i_want.TEMP, transform=ccrs.PlateCarree())\n",
    "ax.scatter(relevant_lons, relevant_lats, s=3, c='red', transform=ccrs.PlateCarree())\n",
    "ax.scatter(sat_lon, sat_lat, s=3, c='gray', transform=ccrs.PlateCarree())\n",
    "ax.add_feature(USCOUNTIES.with_scale('5m'))"
   ]
  },
  {
   "cell_type": "code",
   "execution_count": null,
   "metadata": {},
   "outputs": [],
   "source": [
    "fig = plt.figure()\n",
    "ax = fig.gca()\n",
    "# ax.scatter(this_feature_x2d, this_feature_y2d, s=3, c='gray')\n",
    "ax.scatter(grid_x2d[x_indices_valid, y_indices_valid], grid_y2d[x_indices_valid, y_indices_valid], s=3, c='r')\n",
    "ax.pcolormesh(this_feature_x2d, this_feature_y2d, this_seg_mask, vmin=48, vmax=51, cmap='hot')\n",
    "ax.pcolormesh(this_feature_x2d, this_feature_y2d, vals)\n"
   ]
  },
  {
   "cell_type": "code",
   "execution_count": null,
   "metadata": {},
   "outputs": [],
   "source": []
  },
  {
   "cell_type": "code",
   "execution_count": null,
   "metadata": {},
   "outputs": [],
   "source": [
    "def get_time(utc_nanoseconds):\n",
    "    if type(utc_nanoseconds) == np.datetime64:\n",
    "        return utc_nanoseconds\n",
    "    else:\n",
    "        return np.datetime64(utc_nanoseconds, 'ns')"
   ]
  },
  {
   "cell_type": "code",
   "execution_count": null,
   "metadata": {},
   "outputs": [],
   "source": [
    "def get_time_str(utc_nanoseconds):\n",
    "    time_str = dt.fromtimestamp(float(utc_nanoseconds) / 1e9, UTC).strftime('%Y-%m-%d %H:%M:%S')\n",
    "    return time_str"
   ]
  },
  {
   "cell_type": "code",
   "execution_count": null,
   "metadata": {},
   "outputs": [],
   "source": [
    "def plot_seg_mask(dataset, time):\n",
    "    this_time = dataset.sel(time=time, method='nearest')\n",
    "    seg_mask = this_time.segmentation_mask.data.copy().astype(float)\n",
    "    seg_mask[seg_mask == 0] = np.nan\n",
    "    plot = gv.QuadMesh((this_time.lon, this_time.lat, seg_mask), kdims=['lon', 'lat'], vdims=['segmentation mask']).opts(cmap='plasma', colorbar=False)\n",
    "    return plot"
   ]
  },
  {
   "cell_type": "code",
   "execution_count": null,
   "metadata": {},
   "outputs": [],
   "source": [
    "def plot_features(dataset, time):\n",
    "    lats = dataset.feature_lat[dataset.feature_time == time]\n",
    "    lons = dataset.feature_lon[dataset.feature_time == time]\n",
    "    feat_ids = dataset.feature[dataset.feature_time == time]\n",
    "    return gv.Points((lons, lats, feat_ids), kdims=['lon', 'lat'], vdims=['Feature ID']).opts(color='Cell ID', cmap='plasma', colorbar=True, tools=['hover'], size=4, line_color='k', line_width=0.5)"
   ]
  },
  {
   "cell_type": "code",
   "execution_count": null,
   "metadata": {},
   "outputs": [],
   "source": [
    "col"
   ]
  },
  {
   "cell_type": "code",
   "execution_count": null,
   "metadata": {},
   "outputs": [],
   "source": [
    "download_results"
   ]
  },
  {
   "cell_type": "code",
   "execution_count": null,
   "metadata": {},
   "outputs": [],
   "source": [
    "l1b_ds_trimmed"
   ]
  },
  {
   "cell_type": "code",
   "execution_count": null,
   "metadata": {},
   "outputs": [],
   "source": [
    "fk1 = 1.08033e+04\n",
    "fk2 = 1.39274e+03\n",
    "bc1 = 0.07550\n",
    "bc2 = 0.99975\n",
    "\n",
    "l1b_ds_trimmed['temp'] = (fk2 / (np.log((fk1 / l1b_ds_trimmed.Rad) + 1))  -  bc1) / bc2"
   ]
  },
  {
   "cell_type": "code",
   "execution_count": null,
   "metadata": {},
   "outputs": [],
   "source": [
    "vmin = np.min([l1b_ds_trimmed.temp.min(), ctt_ds.TEMP.min()])\n",
    "vmax = np.min([l1b_ds_trimmed.temp.max(), ctt_ds.TEMP.max()])"
   ]
  },
  {
   "cell_type": "code",
   "execution_count": null,
   "metadata": {},
   "outputs": [],
   "source": [
    "geosys = coords.GeographicSystem()\n",
    "satsys = coords.GeostationaryFixedGridSystem(subsat_lon=l1b_ds.nominal_satellite_subpoint_lon.data.item(), sweep_axis='x')"
   ]
  },
  {
   "cell_type": "code",
   "execution_count": null,
   "metadata": {},
   "outputs": [],
   "source": [
    "x_2d, y_2d = np.meshgrid(l1b_ds_trimmed.x.data, l1b_ds_trimmed.y.data)"
   ]
  },
  {
   "cell_type": "code",
   "execution_count": null,
   "metadata": {},
   "outputs": [],
   "source": [
    "lon, lat, alt = geosys.fromECEF(*satsys.toECEF(x_2d, y_2d, np.zeros_like(x_2d)))\n",
    "lon = lon.reshape(x_2d.shape)\n",
    "lat = lat.reshape(y_2d.shape)"
   ]
  },
  {
   "cell_type": "code",
   "execution_count": null,
   "metadata": {},
   "outputs": [],
   "source": [
    "fig = plt.figure()\n",
    "ax = plt.axes(projection=ccrs.PlateCarree())\n",
    "pcm = ax.pcolormesh(lon, lat, l1b_ds_trimmed.temp.data, vmin=vmin, vmax=vmax, transform=ccrs.PlateCarree())\n",
    "ax.add_feature(cfeat.COASTLINE)\n",
    "ax.add_feature(cfeat.STATES)\n",
    "fig.colorbar(pcm)"
   ]
  },
  {
   "cell_type": "code",
   "execution_count": null,
   "metadata": {},
   "outputs": [],
   "source": [
    "ecef_coords = satsys.toECEF(ctt_ds.x.data, ctt_ds.y.data, np.zeros_like(ctt_ds.x.data))"
   ]
  },
  {
   "cell_type": "code",
   "execution_count": null,
   "metadata": {},
   "outputs": [],
   "source": [
    "lon, lat, alt = geosys.fromECEF(*ecef_coords)"
   ]
  },
  {
   "cell_type": "code",
   "execution_count": null,
   "metadata": {},
   "outputs": [],
   "source": [
    "fig = plt.figure()\n",
    "ax = plt.axes(projection=ccrs.PlateCarree())\n",
    "pcm = ax.pcolormesh(lon, lat, ctt_ds.TEMP.data, vmin=vmin, vmax=vmax, transform=ccrs.PlateCarree())\n",
    "ax.add_feature(cfeat.COASTLINE)\n",
    "ax.add_feature(cfeat.STATES)\n",
    "fig.colorbar(pcm)"
   ]
  },
  {
   "cell_type": "code",
   "execution_count": null,
   "metadata": {},
   "outputs": [],
   "source": [
    "for feat_id in tfm.feature:\n",
    "    print(feat_id)\n",
    "    this_time = tfm.isel(time=0)\n",
    "    this_mask_lon = this_time.lon.where(this_time.segmentation_mask == feat_id)\n",
    "    this_mask_lat = this_time.lat.where(this_time.segmentation_mask == feat_id)\n",
    "    this_mask = this_time.segmentation_mask.where(this_time.segmentation_mask == feat_id)\n",
    "    break"
   ]
  },
  {
   "cell_type": "code",
   "execution_count": null,
   "metadata": {},
   "outputs": [],
   "source": [
    "this_mask_ecef = geosys.toECEF(this_time.lon, this_time.lat, np.zeros_like(this_time.lat))"
   ]
  },
  {
   "cell_type": "code",
   "execution_count": null,
   "metadata": {},
   "outputs": [],
   "source": [
    "this_mask_x, this_mask_y, _ = satsys.fromECEF(*this_mask_ecef)"
   ]
  },
  {
   "cell_type": "code",
   "execution_count": null,
   "metadata": {},
   "outputs": [],
   "source": [
    "fig = plt.figure()\n",
    "ax = fig.gca()\n",
    "pcm = ax.pcolormesh(l1b_ds_trimmed.x, l1b_ds_trimmed.y, l1b_ds_trimmed.temp, vmin=vmin, vmax=vmax)\n",
    "mask = ax.pcolormesh(this_mask_x, this_mask_y, this_mask, cmap='Reds_r')\n",
    "fig.colorbar(pcm)"
   ]
  }
 ],
 "metadata": {
  "kernelspec": {
   "display_name": "Python 3",
   "language": "python",
   "name": "python3"
  },
  "language_info": {
   "codemirror_mode": {
    "name": "ipython",
    "version": 3
   },
   "file_extension": ".py",
   "mimetype": "text/x-python",
   "name": "python",
   "nbconvert_exporter": "python",
   "pygments_lexer": "ipython3",
   "version": "3.12.5"
  }
 },
 "nbformat": 4,
 "nbformat_minor": 4
}

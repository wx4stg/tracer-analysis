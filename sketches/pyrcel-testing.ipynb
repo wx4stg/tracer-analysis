{
 "cells": [
  {
   "cell_type": "code",
   "execution_count": 1,
   "metadata": {},
   "outputs": [],
   "source": [
    "# Suppress warnings\n",
    "import warnings\n",
    "warnings.simplefilter('ignore')\n",
    "\n",
    "import pyrcel\n",
    "import numpy as np\n",
    "import pandas as pd\n",
    "\n",
    "import matplotlib.pyplot as plt"
   ]
  },
  {
   "cell_type": "code",
   "execution_count": 2,
   "metadata": {},
   "outputs": [],
   "source": [
    "### From the coefficients CSV\n",
    "coeffs = pd.read_csv('20220813_coeff.csv')\n",
    "this_row = coeffs.iloc[0]"
   ]
  },
  {
   "cell_type": "code",
   "execution_count": 3,
   "metadata": {},
   "outputs": [],
   "source": [
    "### Attempting to reproduce the result from 13 August 2022 12z\n",
    "N1 = 4630.896855\n",
    "Dg1 = 25.70563148 / 1000\n",
    "Kmore1 = 0.25\n",
    "Kless1 = 0.04\n",
    "fmore1 = 0.4\n",
    "K1 = Kmore1 if fmore1 > 0.5 else Kless1\n",
    "S1 = 1.677524762\n",
    "\n",
    "N2 = 960.8553055\n",
    "Dg2 = 58.74768485 / 1000\n",
    "Kmore2 = 0.25\n",
    "Kless2 = 0.04\n",
    "fmore2 = 0.4\n",
    "K2 = Kmore2 if Dg2 > 0.5 else Kless2\n",
    "S2 = 1.320694585\n",
    "\n",
    "N3 = 1417.213727\n",
    "Dg3 = 118.7624418 / 1000\n",
    "Kmore3 = 0.26\n",
    "Kless3 = 0.04\n",
    "fmore3 = 0.68\n",
    "K3 = Kmore3 if fmore3 > 0.5 else Kless3\n",
    "S3 = 1.726582835\n",
    "\n",
    "N4 = 1.212512221\n",
    "Dg4 = 800 / 1000\n",
    "Kmore4 = 0.26\n",
    "Kless4 = 0.26\n",
    "fmore4 = 1\n",
    "K4 = Kmore4 if fmore4 > 0.5 else Kless4\n",
    "S4 = 1.717141449"
   ]
  },
  {
   "cell_type": "code",
   "execution_count": 4,
   "metadata": {},
   "outputs": [],
   "source": [
    "N1 = this_row['N1']\n",
    "Dg1 = this_row['mu1'] / 1000\n",
    "Kmore1 = this_row['kmore1']\n",
    "Kless1 = this_row['kless1']\n",
    "fmore1 = this_row['fmore1']\n",
    "K1 = Kmore1 if fmore1 > 0.5 else Kless1\n",
    "S1 = this_row['std1']\n",
    "\n",
    "N2 = this_row['N2']\n",
    "Dg2 = this_row['mu2'] / 1000\n",
    "Kmore2 = this_row['kmore2']\n",
    "Kless2 = this_row['kless2']\n",
    "fmore2 = this_row['fmore2']\n",
    "K2 = Kmore2 if Dg2 > 0.5 else Kless2\n",
    "S2 = this_row['std2']\n",
    "\n",
    "N3 = this_row['N3']\n",
    "Dg3 = this_row['mu3'] / 1000\n",
    "Kmore3 = this_row['kmore3']\n",
    "Kless3 = this_row['kless3']\n",
    "fmore3 = this_row['fmore3']\n",
    "K3 = Kmore3 if fmore3 > 0.5 else Kless3\n",
    "S3 = this_row['std3']\n",
    "\n",
    "N4 = this_row['N4']\n",
    "Dg4 = this_row['mu4'] / 1000\n",
    "Kmore4 = this_row['k4']\n",
    "Kless4 = this_row['k4']\n",
    "fmore4 = this_row['fmore4']\n",
    "K4 = Kmore4 if fmore4 > 0.5 else Kless4\n",
    "S4 = this_row['std4']"
   ]
  },
  {
   "cell_type": "code",
   "execution_count": 4,
   "metadata": {},
   "outputs": [
    {
     "name": "stdout",
     "output_type": "stream",
     "text": [
      "4630.896855\n",
      "0.01285281574\n",
      "1.677524762\n",
      "0.04\n"
     ]
    }
   ],
   "source": [
    "print(N1)\n",
    "print(Dg1/2)\n",
    "print(S1)\n",
    "print(K1)"
   ]
  },
  {
   "cell_type": "code",
   "execution_count": 5,
   "metadata": {},
   "outputs": [
    {
     "name": "stdout",
     "output_type": "stream",
     "text": [
      "960.8553055\n",
      "0.029373842424999998\n",
      "1.320694585\n",
      "0.04\n"
     ]
    }
   ],
   "source": [
    "print(N2)\n",
    "print(Dg2/2)\n",
    "print(S2)\n",
    "print(K2)"
   ]
  },
  {
   "cell_type": "code",
   "execution_count": 6,
   "metadata": {},
   "outputs": [
    {
     "name": "stdout",
     "output_type": "stream",
     "text": [
      "1417.213727\n",
      "0.059381220900000004\n",
      "1.726582835\n",
      "0.26\n"
     ]
    }
   ],
   "source": [
    "print(N3)\n",
    "print(Dg3/2)\n",
    "print(S3)\n",
    "print(K3)"
   ]
  },
  {
   "cell_type": "code",
   "execution_count": 7,
   "metadata": {},
   "outputs": [
    {
     "name": "stdout",
     "output_type": "stream",
     "text": [
      "1.212512221\n",
      "0.4\n",
      "1.717141449\n",
      "0.26\n"
     ]
    }
   ],
   "source": [
    "print(N4)\n",
    "print(Dg4/2)\n",
    "print(S4)\n",
    "print(K4)"
   ]
  },
  {
   "cell_type": "code",
   "execution_count": 8,
   "metadata": {},
   "outputs": [],
   "source": [
    "\n",
    "\n",
    "## IDEAS:\n",
    "# - use multimode distribution?\n",
    "# - multipy N by fmore if fmore > 0.5 or fless if fmore < 0.5\n",
    "\n",
    "## mode 1\n",
    "mode1 = pyrcel.AerosolSpecies('mode1',\n",
    "                          pyrcel.Lognorm(mu=Dg1/2,\n",
    "                                     sigma=S1,\n",
    "                                     N=N1), kappa=K1, bins=100)\n",
    "## mode 2\n",
    "mode2 = pyrcel.AerosolSpecies('mode2',\n",
    "                          pyrcel.Lognorm(mu=Dg2/2,\n",
    "                                     sigma=S2,\n",
    "                                     N=N2), kappa=K2, bins=100)\n",
    "## mode 3\n",
    "mode3 = pyrcel.AerosolSpecies('mode3',\n",
    "                          pyrcel.Lognorm(mu=Dg3/2,\n",
    "                                     sigma=S3,\n",
    "                                     N=N3), kappa=K3, bins=100)\n",
    "## mode 4\n",
    "mode4 = pyrcel.AerosolSpecies('mode4',\n",
    "                          pyrcel.Lognorm(mu=Dg4/2,\n",
    "                                     sigma=S4,\n",
    "                                     N=N4), kappa=K4, bins=100)"
   ]
  },
  {
   "cell_type": "code",
   "execution_count": 9,
   "metadata": {},
   "outputs": [],
   "source": [
    "aerosol_dict = {\n",
    "    'mode1' : mode1,\n",
    "    'mode2' : mode2,\n",
    "    'mode3' : mode3,\n",
    "    'mode4' : mode4\n",
    "}"
   ]
  },
  {
   "cell_type": "code",
   "execution_count": 10,
   "metadata": {},
   "outputs": [],
   "source": [
    "P0 = 100000. # Pressure, Pa\n",
    "T0 = 280.    # Temperature, K\n",
    "S0 = .1/100     # Supersaturation\n",
    "w0 = 1     # vertical velocity, m/s"
   ]
  },
  {
   "cell_type": "code",
   "execution_count": 11,
   "metadata": {},
   "outputs": [],
   "source": [
    "mod = pyrcel.ParcelModel([mode1, mode2, mode3, mode4], w0, T0, -0.02, P0, console=False, accom=1)"
   ]
  },
  {
   "cell_type": "code",
   "execution_count": 12,
   "metadata": {},
   "outputs": [
    {
     "name": "stderr",
     "output_type": "stream",
     "text": [
      "Could not find cannot import name 'dopri5' from 'assimulo.lib' (/Users/stgardner4/micromamba/envs/tracer/lib/python3.12/site-packages/assimulo/lib/__init__.py)\n",
      "Could not find cannot import name 'rodas' from 'assimulo.lib' (/Users/stgardner4/micromamba/envs/tracer/lib/python3.12/site-packages/assimulo/lib/__init__.py)\n",
      "Could not find cannot import name 'odassl' from 'assimulo.lib' (/Users/stgardner4/micromamba/envs/tracer/lib/python3.12/site-packages/assimulo/lib/__init__.py)\n",
      "Could not find ODEPACK functions.\n",
      "Could not find RADAR5\n",
      "Could not find GLIMDA.\n"
     ]
    },
    {
     "name": "stdout",
     "output_type": "stream",
     "text": [
      "[WARNING][rank 0][/Users/runner/miniforge3/conda-bld/sundials-split_1719463006984/work/sundials/src/cvodes/cvodes.c:3555][CVode] At the end of the first step, there are still some root functions identically 0. This warning will not be issued again.\n"
     ]
    }
   ],
   "source": [
    "ptrace, aer_out = mod.run(100/w0, 1/w0, solver='cvode', output='dateframes', terminate=True)"
   ]
  },
  {
   "cell_type": "code",
   "execution_count": 13,
   "metadata": {},
   "outputs": [],
   "source": [
    "n = len(ptrace['S']) - 1\n",
    "activated_amounts = []"
   ]
  },
  {
   "cell_type": "code",
   "execution_count": 14,
   "metadata": {},
   "outputs": [
    {
     "name": "stdout",
     "output_type": "stream",
     "text": [
      "mode1 activation fraction: 1.288261616074726e-07\n",
      "Activated amount = 0.0005968969479018877\n",
      "mode2 activation fraction: 4.7332955467824454e-11\n",
      "Activated amount = 4.550031795934916e-08\n",
      "mode3 activation fraction: 0.17449272568121385\n",
      "Activated amount = 247.42725148658394\n",
      "mode4 activation fraction: 0.9957118369538863\n",
      "Activated amount = 1.2079633613621483\n"
     ]
    }
   ],
   "source": [
    "for mode_key, mode_value in aerosol_dict.items():\n",
    "    f, unused_1, unused_2, unused_3 = pyrcel.binned_activation(S0, ptrace['T'].iloc[n],\n",
    "                                          aer_out[mode_key].iloc[n], mode_value)\n",
    "    print(f'{mode_key} activation fraction: {f}')\n",
    "    activated_amounts.append(f * mode_value.total_N)\n",
    "    print(f'Activated amount = {f * mode_value.total_N}')"
   ]
  },
  {
   "cell_type": "code",
   "execution_count": 15,
   "metadata": {},
   "outputs": [
    {
     "data": {
      "text/plain": [
       "np.float64(248.6358117903943)"
      ]
     },
     "execution_count": 15,
     "metadata": {},
     "output_type": "execute_result"
    }
   ],
   "source": [
    "sum(activated_amounts)"
   ]
  },
  {
   "cell_type": "code",
   "execution_count": null,
   "metadata": {},
   "outputs": [],
   "source": []
  }
 ],
 "metadata": {
  "kernelspec": {
   "display_name": "Python 3",
   "language": "python",
   "name": "python3"
  },
  "language_info": {
   "codemirror_mode": {
    "name": "ipython",
    "version": 3
   },
   "file_extension": ".py",
   "mimetype": "text/x-python",
   "name": "python",
   "nbconvert_exporter": "python",
   "pygments_lexer": "ipython3",
   "version": "3.12.8"
  }
 },
 "nbformat": 4,
 "nbformat_minor": 2
}

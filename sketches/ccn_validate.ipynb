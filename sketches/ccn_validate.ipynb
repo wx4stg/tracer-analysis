{
 "cells": [
  {
   "cell_type": "code",
   "execution_count": null,
   "metadata": {},
   "outputs": [],
   "source": [
    "import pandas as pd\n",
    "import xarray as xr\n",
    "import holoviews as hv\n",
    "import numpy as np\n",
    "from scipy.stats import linregress\n",
    "from matplotlib import pyplot as plt\n",
    "\n",
    "hv.extension('bokeh')"
   ]
  },
  {
   "cell_type": "code",
   "execution_count": null,
   "metadata": {},
   "outputs": [],
   "source": [
    "fix = pd.read_excel('/Volumes/LtgSSD/arm-ccn-fix/modeloutput.xlsx', skiprows=1)"
   ]
  },
  {
   "cell_type": "code",
   "execution_count": null,
   "metadata": {},
   "outputs": [],
   "source": [
    "fix.columns"
   ]
  },
  {
   "cell_type": "code",
   "execution_count": null,
   "metadata": {},
   "outputs": [],
   "source": [
    "corrected_CCN = fix.set_index('Timestamp (UTC)')['CCN @ SS = 0.1% (cm-3)']"
   ]
  },
  {
   "cell_type": "code",
   "execution_count": null,
   "metadata": {},
   "outputs": [],
   "source": [
    "wrong = xr.open_mfdataset('/Volumes/LtgSSD/arm-ccn-avg/*.nc')"
   ]
  },
  {
   "cell_type": "code",
   "execution_count": null,
   "metadata": {},
   "outputs": [],
   "source": [
    "wrong_filt = wrong.isel(time=((wrong.supersaturation_calculated <= 0.15)).compute())"
   ]
  },
  {
   "cell_type": "code",
   "execution_count": null,
   "metadata": {},
   "outputs": [],
   "source": [
    "wrong_curve = hv.Scatter((wrong_filt.time, wrong_filt.N_CCN), kdims=['Time'], vdims=['N_CCN (cm^-3)'], label='AOS CCN Instrument').opts(width=800, height=400, color='red', line_width=2)"
   ]
  },
  {
   "cell_type": "code",
   "execution_count": null,
   "metadata": {},
   "outputs": [],
   "source": [
    "fixed_curve = hv.Scatter((corrected_CCN.index, corrected_CCN.values), kdims=['Time'], vdims=['N_CCN (cm^-3)'], label='pyrcel model CCN').opts(width=800, height=400, color='blue', line_width=2, title='CCN Timeseries, supersaturation = 0.1%')"
   ]
  },
  {
   "cell_type": "code",
   "execution_count": null,
   "metadata": {},
   "outputs": [],
   "source": [
    "wrong_curve * fixed_curve"
   ]
  },
  {
   "cell_type": "code",
   "execution_count": null,
   "metadata": {},
   "outputs": [],
   "source": [
    "hourly_resample = wrong_filt.N_CCN.resample(time='1h').mean().compute()"
   ]
  },
  {
   "cell_type": "code",
   "execution_count": null,
   "metadata": {},
   "outputs": [],
   "source": [
    "wrong_mask_to_model = hourly_resample.isel(time=hourly_resample.time.isin(corrected_CCN.index).compute())"
   ]
  },
  {
   "cell_type": "code",
   "execution_count": null,
   "metadata": {},
   "outputs": [],
   "source": [
    "wrong_mask_to_model"
   ]
  },
  {
   "cell_type": "code",
   "execution_count": null,
   "metadata": {},
   "outputs": [],
   "source": [
    "model_matching_obs_times = corrected_CCN.loc[wrong_mask_to_model.time.values]"
   ]
  },
  {
   "cell_type": "code",
   "execution_count": null,
   "metadata": {},
   "outputs": [],
   "source": [
    "all_nonnan = (~np.isnan(model_matching_obs_times.values)) & (~np.isnan(wrong_mask_to_model.data))"
   ]
  },
  {
   "cell_type": "code",
   "execution_count": null,
   "metadata": {},
   "outputs": [],
   "source": [
    "res = linregress(model_matching_obs_times.values[all_nonnan], wrong_mask_to_model.data[all_nonnan])"
   ]
  },
  {
   "cell_type": "code",
   "execution_count": null,
   "metadata": {},
   "outputs": [],
   "source": [
    "m = res.slope\n",
    "b = res.intercept\n",
    "r = res.rvalue\n",
    "p = res.pvalue\n",
    "stderr = res.stderr\n",
    "int_stderr = res.intercept_stderr "
   ]
  },
  {
   "cell_type": "code",
   "execution_count": null,
   "metadata": {},
   "outputs": [],
   "source": [
    "hv.Scatter((model_matching_obs_times, wrong_mask_to_model)).opts(width=800, height=400, color='green', xlabel='pyrcel model', ylabel='AOS CCN', title=f'Averaged Hourly AOS CCN observation vs pyrcel model value at 1.05-1.35%SS\\nm = {m:.2f}, b = {b:.2f}, r^2 = {r**2:.2f}, p = {p:.2f}')"
   ]
  },
  {
   "cell_type": "code",
   "execution_count": null,
   "metadata": {},
   "outputs": [],
   "source": [
    "wrong.supersaturation_calculated.plot.hist(bins=100)\n",
    "plt.xlabel('Supersaturation (%)')\n",
    "plt.ylabel('Frequency')\n",
    "plt.title('Supersaturation Distribution in AOS CCN Data')"
   ]
  },
  {
   "cell_type": "code",
   "execution_count": null,
   "metadata": {},
   "outputs": [],
   "source": []
  }
 ],
 "metadata": {
  "kernelspec": {
   "display_name": "Python 3",
   "language": "python",
   "name": "python3"
  },
  "language_info": {
   "codemirror_mode": {
    "name": "ipython",
    "version": 3
   },
   "file_extension": ".py",
   "mimetype": "text/x-python",
   "name": "python",
   "nbconvert_exporter": "python",
   "pygments_lexer": "ipython3",
   "version": "3.12.8"
  }
 },
 "nbformat": 4,
 "nbformat_minor": 2
}

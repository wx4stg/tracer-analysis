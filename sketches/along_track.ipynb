{
 "cells": [
  {
   "cell_type": "code",
   "execution_count": null,
   "metadata": {},
   "outputs": [],
   "source": [
    "from datetime import datetime as dt, timedelta\n",
    "from functools import reduce\n",
    "\n",
    "import holoviews as hv\n",
    "import geoviews as gv\n",
    "import numpy as np\n",
    "import panel as pn\n",
    "from pyxlma import coords\n",
    "from scipy.interpolate import griddata\n",
    "import xarray as xr\n",
    "\n",
    "from goes2go import GOES\n",
    "\n",
    "from glmtools.io.lightning_ellipse import lightning_ellipse_rev\n",
    "\n",
    "gv.extension('bokeh')"
   ]
  },
  {
   "cell_type": "code",
   "execution_count": null,
   "metadata": {},
   "outputs": [],
   "source": [
    "date_i_want = dt(2022, 6, 2, 0, 0, 0)"
   ]
  },
  {
   "cell_type": "code",
   "execution_count": null,
   "metadata": {},
   "outputs": [],
   "source": [
    "sbfobs = xr.open_dataset(f'/Volumes/LtgSSD/tobac_saves/tobac_Save_{date_i_want.strftime(\"%Y%m%d\")}/seabreeze-obs.zarr', engine='zarr')"
   ]
  },
  {
   "cell_type": "code",
   "execution_count": null,
   "metadata": {},
   "outputs": [],
   "source": [
    "has_lightning_mask = sbfobs.feature_flash_count.data > 0\n",
    "has_zdr_mask = sbfobs.feature_zdrvol.data > 0\n",
    "has_kdp_mask = sbfobs.feature_kdpvol.data > 0\n",
    "\n",
    "nothing_mask = ~has_lightning_mask & ~has_zdr_mask & ~has_kdp_mask\n",
    "zdr_only_mask = ~has_lightning_mask & has_zdr_mask & ~has_kdp_mask\n",
    "kdp_only_mask = ~has_lightning_mask & ~has_zdr_mask & has_kdp_mask\n",
    "zdr_kdp_mask = ~has_lightning_mask & has_zdr_mask & has_kdp_mask\n",
    "zdr_lightning_mask = has_lightning_mask & has_zdr_mask & ~has_kdp_mask\n",
    "kdp_lightning_mask = has_lightning_mask & ~has_zdr_mask & has_kdp_mask\n",
    "everything_mask = has_lightning_mask & has_zdr_mask & has_kdp_mask\n",
    "lightning_only_mask = has_lightning_mask & ~has_kdp_mask & ~has_zdr_mask\n",
    "\n",
    "point_descriptor = {\n",
    "    'Nothing': {'mask' : nothing_mask, 'color': 'blue', 'marker' : 'circle'},#'marker' : 'circle'},\n",
    "    'ZDR' : {'mask' : zdr_only_mask, 'color' : 'orange', 'marker' : 'circle'},#'marker' : 'cross'},\n",
    "    'KDP' : {'mask' : kdp_only_mask, 'color' : 'green', 'marker' : 'circle'},#'marker' : 'triangle'},\n",
    "    'ZDR_KDP' : {'mask' : zdr_kdp_mask, 'color' : 'red', 'marker' : 'circle'},#'marker' : 'x'},\n",
    "    'ZDR_Lightning' : {'mask' : zdr_lightning_mask, 'color' : 'purple', 'marker' : 'circle'},#'marker' : 'y'},\n",
    "    'KDP_Lightning' : {'mask' : kdp_lightning_mask, 'color' : 'saddlebrown', 'marker' : 'circle'},#'marker' : 'hex'},\n",
    "    'ZDR_KDP_Lightning' : {'mask' : everything_mask, 'color' : 'magenta', 'marker' : 'circle'},#'marker' : 'inverted_triangle'},\n",
    "    'Lightning' : {'mask' : lightning_only_mask, 'color' : 'gray', 'marker' : 'circle'},#'marker' : 'square'},\n",
    "}"
   ]
  },
  {
   "cell_type": "code",
   "execution_count": null,
   "metadata": {},
   "outputs": [],
   "source": [
    "def plot_points(sbfobs, label, infodict, is_visible, filter_track_id=False, track_id=None):\n",
    "    points_to_plot = sbfobs.isel(feature=infodict['mask'])\n",
    "    if filter_track_id and track_id is not None:\n",
    "        track_mask = (points_to_plot.feature_parent_track_id == track_id)\n",
    "        points_to_plot = points_to_plot.isel(feature=track_mask)\n",
    "    this_map = gv.Points((points_to_plot.feature_lon, points_to_plot.feature_lat, points_to_plot.feature, points_to_plot.feature_parent_track_id,\n",
    "                          points_to_plot.feature_time.astype(str), points_to_plot.feature_kdpvol, points_to_plot.feature_zdrvol, points_to_plot.feature_flash_count,\n",
    "                          points_to_plot.feature_echotop, (points_to_plot.feature_min_L2_MCMIPC-273.15)),\n",
    "                         kdims=['Longitude', 'Latitude'],\n",
    "                         vdims=['Feature ID', 'Track ID', 'Time', 'KDP Volume', 'ZDR Volume', 'Flash Count', 'Echo Top', 'CTT'],\n",
    "                         label=label).opts(marker=infodict['marker'], color=infodict['color'], tools=['hover'], size=5, width=600, height=600, visible=is_visible)\n",
    "    return this_map"
   ]
  },
  {
   "cell_type": "code",
   "execution_count": null,
   "metadata": {},
   "outputs": [],
   "source": [
    "def plot_segmentation_scattter(sbfobs, feature_id, is_visible=False):\n",
    "    if is_visible == False:\n",
    "        return gv.Points(([])).opts(visible=False)\n",
    "    else:\n",
    "        this_feature = sbfobs.sel(feature=feature_id)\n",
    "        this_feature_time_idx = this_feature.feature_time_index.data.item()\n",
    "        this_seg_mask = this_feature.isel(time=this_feature_time_idx).segmentation_mask.transpose('x', 'y')\n",
    "        lats_of_feature = this_feature.lat.transpose('y', 'x').data.flatten()[this_seg_mask.data.flatten() == feature_id]\n",
    "        lons_of_feature = this_feature.lon.transpose('y', 'x').data.flatten()[this_seg_mask.data.flatten() == feature_id]\n",
    "        return gv.Points((lons_of_feature, lats_of_feature)).opts(marker='circle', color='black', size=5, width=600, height=600, visible=True)"
   ]
  },
  {
   "cell_type": "code",
   "execution_count": null,
   "metadata": {},
   "outputs": [],
   "source": [
    "def plot_conceptual(sbfobs, track_id, is_visible=False):\n",
    "    feature_mask = sbfobs.feature_parent_track_id == track_id\n",
    "    this_track = sbfobs.sel(track=track_id).isel(feature=feature_mask)\n",
    "    if is_visible and this_track.feature_time.data.shape[0] > 0:\n",
    "        first_time = this_track.feature_time.data.min()\n",
    "        last_time = this_track.feature_time.data.max()\n",
    "        kdp_col_plot = hv.Curve((this_track.time, this_track.track_kdpvol), kdims=['Time'], vdims=['Volume'], label='Track KDP').opts(color='red', width=600, height=600, xlim=(first_time, last_time))\n",
    "        kdp_col_scatter = hv.Scatter((this_track.feature_time, this_track.feature_kdpvol, this_track.feature), kdims=['Time'], vdims=['Volume', 'Feature ID'], label='Feature KDP').opts(color='red', width=600, height=600, tools=['hover'])\n",
    "        zdr_col_plot = hv.Curve((this_track.time, this_track.track_zdrvol), kdims=['Time'], vdims=['Volume'], label='Track ZDR').opts(color='orange', width=600, height=600, xlim=(first_time, last_time))\n",
    "        zdr_col_scatter = hv.Scatter((this_track.feature_time, this_track.feature_zdrvol, this_track.feature), kdims=['Time'], vdims=['Volume', 'Feature ID'], label='Feature ZDR').opts(color='orange', width=600, height=600, tools=['hover'])\n",
    "        lightning_plot = hv.Curve((this_track.time, this_track.track_flash_count), kdims=['Time'], vdims=['Volume'], label='Track Lightning').opts(color='yellow', width=600, height=600)\n",
    "        lightning_scatter = hv.Scatter((this_track.feature_time, this_track.feature_flash_count, this_track.feature), kdims=['Time'], vdims=['Flash Count', 'Feature ID'], label='Feature Lightning').opts(color='yellow', width=600, height=600, tools=['hover'])\n",
    "        return kdp_col_plot * kdp_col_scatter * zdr_col_plot * zdr_col_scatter * lightning_plot * lightning_scatter\n",
    "    else:\n",
    "        return hv.Scatter((sbfobs.feature_time.data, sbfobs.feature.data)).opts(visible=False, width=600, height=600, tools=['hover']) * hv.Scatter((sbfobs.feature_time.data, sbfobs.feature.data)).opts(visible=False, width=600, height=600, tools=['hover'])"
   ]
  },
  {
   "cell_type": "code",
   "execution_count": null,
   "metadata": {},
   "outputs": [],
   "source": [
    "goes_ctt = GOES(satellite=16, product='ABI-L2-MCMIPC')\n",
    "goes_time_range_start = sbfobs.time.data.astype('datetime64[s]').astype(dt)[0]\n",
    "goes_time_range_end = sbfobs.time.data.astype('datetime64[s]').astype(dt)[-1]\n",
    "goes_ctt = GOES(satellite=16, product='ABI-L2-MCMIPC')\n",
    "print('Start download')\n",
    "download_results = goes_ctt.timerange(goes_time_range_start-timedelta(minutes=15), goes_time_range_end+timedelta(minutes=15), max_cpus=4)\n",
    "print('End download')\n",
    "\n",
    "download_results['valid'] = download_results[['start', 'end']].mean(axis=1)\n",
    "valid_times = download_results['valid'].values.astype('datetime64[s]')"
   ]
  },
  {
   "cell_type": "code",
   "execution_count": null,
   "metadata": {},
   "outputs": [],
   "source": [
    "def plot_satellite(sbfobs, feat_id, download_results, is_visible=True):\n",
    "    if is_visible:\n",
    "        print('plotting!')\n",
    "        this_feature = sbfobs.sel(feature=feat_id)\n",
    "        print('selected')\n",
    "        this_feature_time_idx = this_feature.feature_time_index.data.item()\n",
    "        print(f'found index: {this_feature_time_idx}')\n",
    "        sat_to_plot = download_results[download_results['valid'].astype('datetime64[s]') == sbfobs.closest_satellite_time.data[this_feature_time_idx]]['file'].values[0]\n",
    "        print('identified file')\n",
    "        \n",
    "        # Find the index boundaries of the feature\n",
    "        x_indices_valid, y_indices_valid = np.asarray(sbfobs.isel(time=this_feature_time_idx).segmentation_mask == feat_id).nonzero()\n",
    "        first_x_idx = np.min(x_indices_valid)\n",
    "        first_y_idx = np.min(y_indices_valid)\n",
    "        last_x_idx = np.max(x_indices_valid)\n",
    "        last_y_idx = np.max(y_indices_valid)\n",
    "\n",
    "        # Trim the grid to a rectangle surrounding the feature\n",
    "        grid_x2d, grid_y2d = np.meshgrid(sbfobs.x, sbfobs.y)\n",
    "        index_pad = 10\n",
    "        first_x_idx = np.max([first_x_idx-index_pad, 0])\n",
    "        first_y_idx = np.max([first_y_idx-index_pad, 0])\n",
    "        last_x_idx = np.min([last_x_idx+index_pad, sbfobs.x.shape[0]-1])\n",
    "        last_y_idx = np.min([last_y_idx+index_pad, sbfobs.y.shape[0]-1])\n",
    "        this_feature_x2d = grid_x2d[first_x_idx:last_x_idx+1, first_y_idx:last_y_idx+1]\n",
    "        this_feature_y2d = grid_y2d[first_x_idx:last_x_idx+1, first_y_idx:last_y_idx+1]\n",
    "        this_feature_lon2d = sbfobs.lon.data[first_x_idx:last_x_idx+1, first_y_idx:last_y_idx+1]\n",
    "        this_feature_lat2d = sbfobs.lat.data[first_x_idx:last_x_idx+1, first_y_idx:last_y_idx+1]\n",
    "        this_goes_x = sbfobs.g16_scan_x.data[first_x_idx:last_x_idx+1, first_y_idx:last_y_idx+1]\n",
    "        this_goes_y = sbfobs.g16_scan_y.data[first_x_idx:last_x_idx+1, first_y_idx:last_y_idx+1]\n",
    "        this_feature_g16_xmax = np.max(this_goes_x)\n",
    "        this_feature_g16_ymax = np.max(this_goes_y)\n",
    "        this_feature_g16_xmin = np.min(this_goes_x)\n",
    "        this_feature_g16_ymin = np.min(this_goes_y)\n",
    "        feature_padding = .0015 # A little bit of padding to be safe\n",
    "        satellite_data = xr.open_dataset('../'+sat_to_plot).sel(y=slice(this_feature_g16_ymax+feature_padding, this_feature_g16_ymin-feature_padding),\n",
    "                                    x=slice(this_feature_g16_xmin-feature_padding, this_feature_g16_xmax+feature_padding))\n",
    "        print('loaded data')\n",
    "        sat_y2d, sat_x2d = np.meshgrid(satellite_data.y.data, satellite_data.x.data)\n",
    "        sat_z2d = np.zeros_like(sat_x2d)\n",
    "        ltg_ell = lightning_ellipse_rev[1]\n",
    "        feat_echotop = 0\n",
    "        satsys = coords.GeostationaryFixedGridSystem(subsat_lon=-75.,\n",
    "                                                        sweep_axis='x', ellipse=(ltg_ell[0] - 14e3 + feat_echotop, ltg_ell[1] - 6e3 + feat_echotop))\n",
    "        satellite_ECEF = satsys.toECEF(sat_x2d.flatten(), sat_y2d.flatten(), sat_z2d.flatten())\n",
    "        tpcs = coords.TangentPlaneCartesianSystem(ctrLon=sbfobs.center_lon, ctrLat=sbfobs.center_lat, ctrAlt=0)\n",
    "        sat_tpcs = tpcs.fromECEF(*satellite_ECEF)\n",
    "        sat_tpcs_X = sat_tpcs[0].reshape(sat_x2d.shape)\n",
    "        sat_tpcs_Y = sat_tpcs[1].reshape(sat_y2d.shape)\n",
    "        print('transformed data')\n",
    "        interp_vals = griddata(\n",
    "            np.array([sat_tpcs_X.flatten(), sat_tpcs_Y.flatten()]).T,\n",
    "            satellite_data.CMI_C13.data.T.flatten(),\n",
    "            np.array([this_feature_x2d.flatten(), this_feature_y2d.flatten()]).T,\n",
    "            method='linear'\n",
    "        )\n",
    "        print(this_feature_lon2d.shape)\n",
    "        print(this_feature_lat2d.shape)\n",
    "        print(interp_vals.shape)\n",
    "        interp_vals = interp_vals.reshape(this_feature_lon2d.shape)\n",
    "        print(interp_vals.shape)\n",
    "        return gv.QuadMesh((this_feature_lon2d, this_feature_lat2d, interp_vals), kdims=['Longitude', 'Latitude'], vdims=['Brightness Temperature']).opts(cmap='viridis', colorbar=True, tools=['hover'], alpha=0.5)\n",
    "    else:\n",
    "        return gv.QuadMesh((sbfobs.lon, sbfobs.lat, sbfobs.segmentation_mask.isel(time=0))).opts(visible=False, colorbar=True, tools=['hover'], alpha=0.5)"
   ]
  },
  {
   "cell_type": "code",
   "execution_count": null,
   "metadata": {},
   "outputs": [],
   "source": [
    "track_toggle = pn.widgets.Checkbox(name='Filter by Track ID', value=False)\n",
    "track_select = pn.widgets.IntInput(name='Track ID', start=sbfobs.track.data.astype(int).min(), end=sbfobs.track.data.astype(int).max(), value=0, step=1)\n",
    "show_nothing = pn.widgets.Checkbox(name='Show Nothing', value=True)\n",
    "show_zdr = pn.widgets.Checkbox(name='Show ZDR', value=True)\n",
    "show_kdp = pn.widgets.Checkbox(name='Show KDP', value=True)\n",
    "show_zdr_kdp = pn.widgets.Checkbox(name='Show ZDR_KDP', value=True)\n",
    "show_zdr_lightning = pn.widgets.Checkbox(name='Show ZDR_Lightning', value=True)\n",
    "show_kdp_lightning = pn.widgets.Checkbox(name='Show KDP_Lightning', value=True)\n",
    "show_zdr_kdp_lightning = pn.widgets.Checkbox(name='Show ZDR_KDP_Lightning', value=True)\n",
    "show_lightning = pn.widgets.Checkbox(name='Show Lightning', value=True)\n",
    "seg_toggle = pn.widgets.Checkbox(name='Show Segmentation', value=False)\n",
    "seg_selector = pn.widgets.IntInput(name='Segmentation ID', start=1, end=sbfobs.feature.data.max(), value=0, step=1)\n",
    "sat_toggle = pn.widgets.Checkbox(name='Show Satellite', value=False)"
   ]
  },
  {
   "cell_type": "code",
   "execution_count": null,
   "metadata": {},
   "outputs": [],
   "source": [
    "nothing_map = gv.DynamicMap(pn.bind(plot_points, sbfobs, 'Nothing', point_descriptor['Nothing'], show_nothing, filter_track_id=track_toggle, track_id=track_select))\n",
    "zdr_map = gv.DynamicMap(pn.bind(plot_points, sbfobs, 'ZDR', point_descriptor['ZDR'], show_zdr, filter_track_id=track_toggle, track_id=track_select))\n",
    "kdp_map = gv.DynamicMap(pn.bind(plot_points, sbfobs, 'KDP', point_descriptor['KDP'], show_kdp, filter_track_id=track_toggle, track_id=track_select))\n",
    "zdr_kdp_map = gv.DynamicMap(pn.bind(plot_points, sbfobs, 'ZDR_KDP', point_descriptor['ZDR_KDP'], show_zdr_kdp, filter_track_id=track_toggle, track_id=track_select))\n",
    "zdr_lightning_map = gv.DynamicMap(pn.bind(plot_points, sbfobs, 'ZDR_Lightning', point_descriptor['ZDR_Lightning'], show_zdr_lightning, filter_track_id=track_toggle, track_id=track_select))\n",
    "kdp_lightning_map = gv.DynamicMap(pn.bind(plot_points, sbfobs, 'KDP_Lightning', point_descriptor['KDP_Lightning'], show_kdp_lightning, filter_track_id=track_toggle, track_id=track_select))\n",
    "zdr_kdp_lightning_map = gv.DynamicMap(pn.bind(plot_points, sbfobs, 'ZDR_KDP_Lightning', point_descriptor['ZDR_KDP_Lightning'], show_zdr_kdp_lightning, filter_track_id=track_toggle, track_id=track_select))\n",
    "lightning_map = gv.DynamicMap(pn.bind(plot_points, sbfobs, 'Lightning', point_descriptor['Lightning'], show_lightning, filter_track_id=track_toggle, track_id=track_select))\n",
    "\n",
    "seg_map = gv.DynamicMap(pn.bind(plot_segmentation_scattter, sbfobs, seg_selector, seg_toggle))\n",
    "\n",
    "satellite_map = gv.DynamicMap(pn.bind(plot_satellite, sbfobs, seg_selector, download_results, sat_toggle))\n",
    "\n",
    "map_plot = nothing_map * zdr_map * kdp_map * zdr_kdp_map * zdr_lightning_map * kdp_lightning_map * zdr_kdp_lightning_map * lightning_map * seg_map * satellite_map * gv.tile_sources.OSM\n",
    "\n",
    "concept_plot = hv.DynamicMap(pn.bind(plot_conceptual, sbfobs, track_select, track_toggle))"
   ]
  },
  {
   "cell_type": "code",
   "execution_count": null,
   "metadata": {},
   "outputs": [],
   "source": [
    "track_flash_count = sbfobs.track_flash_count.sum(dim='time')\n",
    "track_zdrvol = sbfobs.track_zdrvol.sum(dim='time')\n",
    "track_kdpvol = sbfobs.track_kdpvol.sum(dim='time')\n",
    "\n",
    "track_ccn = sbfobs['track_ccn_profile_0.6'].isel(vertical_levels=0).mean(dim='time')\n",
    "track_ecape = sbfobs.track_mlecape.mean(dim='time')\n",
    "track_18et = sbfobs.track_echo_top.max(dim='time')\n",
    "track_ctt = sbfobs.track_min_L2_MCMIPC.min(dim='time') - 273.15"
   ]
  },
  {
   "cell_type": "code",
   "execution_count": null,
   "metadata": {},
   "outputs": [],
   "source": [
    "track_lightning_mask = track_flash_count > 0\n",
    "track_zdr_mask = track_zdrvol > 0\n",
    "track_kdp_mask = track_kdpvol > 0\n",
    "\n",
    "track_nothing_mask = ~track_lightning_mask & ~track_zdr_mask & ~track_kdp_mask\n",
    "track_zdr_only_mask = ~track_lightning_mask & track_zdr_mask & ~track_kdp_mask\n",
    "track_kdp_only_mask = ~track_lightning_mask & ~track_zdr_mask & track_kdp_mask\n",
    "track_zdr_kdp_mask = ~track_lightning_mask & track_zdr_mask & track_kdp_mask\n",
    "track_zdr_lightning_mask = track_lightning_mask & track_zdr_mask & ~track_kdp_mask\n",
    "track_kdp_lightning_mask = track_lightning_mask & ~track_zdr_mask & track_kdp_mask\n",
    "track_everything_mask = track_lightning_mask & track_zdr_mask & track_kdp_mask\n",
    "track_lightning_only_mask = track_lightning_mask & ~track_kdp_mask & ~track_zdr_mask"
   ]
  },
  {
   "cell_type": "code",
   "execution_count": null,
   "metadata": {},
   "outputs": [],
   "source": [
    "track_point_descriptor = {\n",
    "    'Nothing': {'mask' : track_nothing_mask, 'color': 'blue', 'marker' : 'circle'},#'marker' : 'circle'},\n",
    "    'ZDR' : {'mask' : track_zdr_only_mask, 'color' : 'orange', 'marker' : 'circle'},#'marker' : 'cross'},\n",
    "    'KDP' : {'mask' : track_kdp_only_mask, 'color' : 'green', 'marker' : 'circle'},#'marker' : 'triangle'},\n",
    "    'ZDR_KDP' : {'mask' : track_zdr_kdp_mask, 'color' : 'red', 'marker' : 'circle'},#'marker' : 'x'},\n",
    "    'ZDR_Lightning' : {'mask' : track_zdr_lightning_mask, 'color' : 'purple', 'marker' : 'circle'},#'marker' : 'y'},\n",
    "    'KDP_Lightning' : {'mask' : track_kdp_lightning_mask, 'color' : 'saddlebrown', 'marker' : 'circle'},#'marker' : 'hex'},\n",
    "    'ZDR_KDP_Lightning' : {'mask' : track_everything_mask, 'color' : 'magenta', 'marker' : 'circle'},#'marker' : 'inverted_triangle'},\n",
    "    'Lightning' : {'mask' : track_lightning_only_mask, 'color' : 'gray', 'marker' : 'circle'},#'marker' : 'square'},\n",
    "}"
   ]
  },
  {
   "cell_type": "code",
   "execution_count": null,
   "metadata": {},
   "outputs": [],
   "source": [
    "ccn_plots = []\n",
    "ecape_plots = []\n",
    "et_plots = []\n",
    "ctt_plots = []\n",
    "\n",
    "for label, infodict in track_point_descriptor.items():\n",
    "    this_ccn = track_ccn.isel(track=infodict['mask'])\n",
    "    this_ecape = track_ecape.isel(track=infodict['mask'])\n",
    "    this_et = track_18et.isel(track=infodict['mask'])\n",
    "    this_ctt = track_ctt.isel(track=infodict['mask'])\n",
    "    this_flash_count = track_flash_count.isel(track=infodict['mask'])\n",
    "\n",
    "    this_ccn_plot = hv.Scatter((this_ccn, this_flash_count, this_ccn.track), kdims=['CCN'], vdims=['Flash Count', 'Track ID'], label=label).opts(color=infodict['color'], width=600, height=600, tools=['hover'], show_legend=False)\n",
    "    this_ecape_plot = hv.Scatter((this_ctt, this_flash_count, this_ecape.track), kdims=['ECAPE'], vdims=['Flash Count', 'Track ID'], label=label).opts(color=infodict['color'], width=600, height=600, tools=['hover'], show_legend=False)\n",
    "    this_et_plot = hv.Scatter((this_et, this_flash_count, this_et.track), kdims=['Echo Top'], vdims=['Flash Count', 'Track ID'], label=label).opts(color=infodict['color'], width=600, height=600, tools=['hover'], show_legend=False)\n",
    "    this_ctt_plot = hv.Scatter((this_ctt, this_flash_count, this_ctt.track), kdims=['CTT'], vdims=['Flash Count', 'Track ID'], label=label).opts(color=infodict['color'], width=600, height=600, tools=['hover'], show_legend=False)\n",
    "\n",
    "    ccn_plots.append(this_ccn_plot)\n",
    "    ecape_plots.append(this_ecape_plot)\n",
    "    et_plots.append(this_et_plot)\n",
    "    ctt_plots.append(this_ctt_plot)"
   ]
  },
  {
   "cell_type": "code",
   "execution_count": null,
   "metadata": {},
   "outputs": [],
   "source": [
    "layout = (reduce(lambda x, y: x * y, ccn_plots) + reduce(lambda x, y: x * y, ecape_plots) + reduce(lambda x, y: x * y, et_plots) + reduce(lambda x, y: x * y, ctt_plots))"
   ]
  },
  {
   "cell_type": "code",
   "execution_count": null,
   "metadata": {},
   "outputs": [],
   "source": [
    "dash = pn.Column(pn.Row(\n",
    "    pn.Column(map_plot),\n",
    "    pn.Column(track_toggle, track_select, show_nothing, show_zdr, show_kdp, show_zdr_kdp, show_zdr_lightning, show_kdp_lightning, show_zdr_kdp_lightning, show_lightning, seg_toggle, seg_selector, sat_toggle),\n",
    "    concept_plot\n",
    "), layout)"
   ]
  },
  {
   "cell_type": "code",
   "execution_count": null,
   "metadata": {},
   "outputs": [],
   "source": [
    "pn.serve(dash)"
   ]
  },
  {
   "cell_type": "code",
   "execution_count": null,
   "metadata": {},
   "outputs": [],
   "source": [
    "sbfobs.feature.data[np.isnan(sbfobs.feature_min_L2_MCMIPC.data)]"
   ]
  },
  {
   "cell_type": "code",
   "execution_count": null,
   "metadata": {},
   "outputs": [],
   "source": [
    "sbfobs.feature_area.data == 0"
   ]
  },
  {
   "cell_type": "code",
   "execution_count": null,
   "metadata": {},
   "outputs": [],
   "source": [
    "np.sum(sbfobs.segmentation_mask.isel(time=0).data == 7)"
   ]
  }
 ],
 "metadata": {
  "kernelspec": {
   "display_name": "Python 3",
   "language": "python",
   "name": "python3"
  },
  "language_info": {
   "codemirror_mode": {
    "name": "ipython",
    "version": 3
   },
   "file_extension": ".py",
   "mimetype": "text/x-python",
   "name": "python",
   "nbconvert_exporter": "python",
   "pygments_lexer": "ipython3",
   "version": "3.12.8"
  }
 },
 "nbformat": 4,
 "nbformat_minor": 2
}

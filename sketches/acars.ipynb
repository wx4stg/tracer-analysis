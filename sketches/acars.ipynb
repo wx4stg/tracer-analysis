{
 "cells": [
  {
   "cell_type": "code",
   "execution_count": 1,
   "metadata": {},
   "outputs": [
    {
     "name": "stdout",
     "output_type": "stream",
     "text": [
      "\n",
      "## ---------------------------------- SOUNDERPY ----------------------------------- ##\n",
      "##          Vertical Profile Data Retrieval and Analysis Tool For Python            ##\n",
      "##                      v3.0.8 | Jan 2025 | (C) Kyle J Gillett                      ##\n",
      "##                 Docs: https://kylejgillett.github.io/sounderpy/                  ##\n",
      "## --------------------- THANK YOU FOR USING THIS PACKAGE! ------------------------ ##\n",
      "\n"
     ]
    }
   ],
   "source": [
    "from datetime import datetime as dt\n",
    "\n",
    "import numpy as np\n",
    "import pandas as pd\n",
    "import sounderpy as spy"
   ]
  },
  {
   "cell_type": "code",
   "execution_count": 2,
   "metadata": {},
   "outputs": [],
   "source": [
    "date_i_want = dt(2022, 6, 2, 0, 0)"
   ]
  },
  {
   "cell_type": "code",
   "execution_count": 3,
   "metadata": {},
   "outputs": [
    {
     "name": "stdout",
     "output_type": "stream",
     "text": [
      "> LIST ACARS PROFILES FUNCTION\n",
      "  ---------------------------------\n",
      "> AVAILABLE ACARS PROFILES FOR 2022-06-02 00Z...\n",
      "> COMPLETE --------\n",
      "> RUNTIME: 00:00:00\n",
      "> LIST ACARS PROFILES FUNCTION\n",
      "  ---------------------------------\n",
      "> AVAILABLE ACARS PROFILES FOR 2022-06-02 01Z...\n",
      "> COMPLETE --------\n",
      "> RUNTIME: 00:00:00\n",
      "> LIST ACARS PROFILES FUNCTION\n",
      "  ---------------------------------\n",
      "> AVAILABLE ACARS PROFILES FOR 2022-06-02 02Z...\n",
      "> COMPLETE --------\n",
      "> RUNTIME: 00:00:00\n",
      "> LIST ACARS PROFILES FUNCTION\n",
      "  ---------------------------------\n",
      "> AVAILABLE ACARS PROFILES FOR 2022-06-02 03Z...\n",
      "> COMPLETE --------\n",
      "> RUNTIME: 00:00:00\n",
      "> LIST ACARS PROFILES FUNCTION\n",
      "  ---------------------------------\n",
      "> AVAILABLE ACARS PROFILES FOR 2022-06-02 04Z...\n",
      "> COMPLETE --------\n",
      "> RUNTIME: 00:00:00\n",
      "> LIST ACARS PROFILES FUNCTION\n",
      "  ---------------------------------\n",
      "> AVAILABLE ACARS PROFILES FOR 2022-06-02 05Z...\n",
      "> COMPLETE --------\n",
      "> RUNTIME: 00:00:00\n",
      "> LIST ACARS PROFILES FUNCTION\n",
      "  ---------------------------------\n",
      "> AVAILABLE ACARS PROFILES FOR 2022-06-02 06Z...\n",
      "> COMPLETE --------\n",
      "> RUNTIME: 00:00:00\n",
      "> LIST ACARS PROFILES FUNCTION\n",
      "  ---------------------------------\n",
      "> AVAILABLE ACARS PROFILES FOR 2022-06-02 07Z...\n",
      "> COMPLETE --------\n",
      "> RUNTIME: 00:00:00\n",
      "> LIST ACARS PROFILES FUNCTION\n",
      "  ---------------------------------\n",
      "> AVAILABLE ACARS PROFILES FOR 2022-06-02 08Z...\n",
      "> COMPLETE --------\n",
      "> RUNTIME: 00:00:00\n",
      "> LIST ACARS PROFILES FUNCTION\n",
      "  ---------------------------------\n",
      "> AVAILABLE ACARS PROFILES FOR 2022-06-02 09Z...\n",
      "> COMPLETE --------\n",
      "> RUNTIME: 00:00:00\n",
      "> LIST ACARS PROFILES FUNCTION\n",
      "  ---------------------------------\n",
      "> AVAILABLE ACARS PROFILES FOR 2022-06-02 10Z...\n",
      "> COMPLETE --------\n",
      "> RUNTIME: 00:00:00\n",
      "> LIST ACARS PROFILES FUNCTION\n",
      "  ---------------------------------\n",
      "> AVAILABLE ACARS PROFILES FOR 2022-06-02 11Z...\n",
      "> COMPLETE --------\n",
      "> RUNTIME: 00:00:00\n",
      "> LIST ACARS PROFILES FUNCTION\n",
      "  ---------------------------------\n",
      "> AVAILABLE ACARS PROFILES FOR 2022-06-02 12Z...\n",
      "> COMPLETE --------\n",
      "> RUNTIME: 00:00:00\n",
      "> LIST ACARS PROFILES FUNCTION\n",
      "  ---------------------------------\n",
      "> AVAILABLE ACARS PROFILES FOR 2022-06-02 13Z...\n",
      "> COMPLETE --------\n",
      "> RUNTIME: 00:00:00\n",
      "> LIST ACARS PROFILES FUNCTION\n",
      "  ---------------------------------\n",
      "> AVAILABLE ACARS PROFILES FOR 2022-06-02 14Z...\n",
      "> COMPLETE --------\n",
      "> RUNTIME: 00:00:00\n",
      "> LIST ACARS PROFILES FUNCTION\n",
      "  ---------------------------------\n",
      "> AVAILABLE ACARS PROFILES FOR 2022-06-02 15Z...\n",
      "> COMPLETE --------\n",
      "> RUNTIME: 00:00:00\n",
      "> LIST ACARS PROFILES FUNCTION\n",
      "  ---------------------------------\n",
      "> AVAILABLE ACARS PROFILES FOR 2022-06-02 16Z...\n",
      "> COMPLETE --------\n",
      "> RUNTIME: 00:00:00\n",
      "> LIST ACARS PROFILES FUNCTION\n",
      "  ---------------------------------\n",
      "> AVAILABLE ACARS PROFILES FOR 2022-06-02 17Z...\n",
      "> COMPLETE --------\n",
      "> RUNTIME: 00:00:00\n",
      "> LIST ACARS PROFILES FUNCTION\n",
      "  ---------------------------------\n",
      "> AVAILABLE ACARS PROFILES FOR 2022-06-02 18Z...\n",
      "> COMPLETE --------\n",
      "> RUNTIME: 00:00:00\n",
      "> LIST ACARS PROFILES FUNCTION\n",
      "  ---------------------------------\n",
      "> AVAILABLE ACARS PROFILES FOR 2022-06-02 19Z...\n",
      "> COMPLETE --------\n",
      "> RUNTIME: 00:00:00\n",
      "> LIST ACARS PROFILES FUNCTION\n",
      "  ---------------------------------\n",
      "> AVAILABLE ACARS PROFILES FOR 2022-06-02 20Z...\n",
      "> COMPLETE --------\n",
      "> RUNTIME: 00:00:00\n",
      "> LIST ACARS PROFILES FUNCTION\n",
      "  ---------------------------------\n",
      "> AVAILABLE ACARS PROFILES FOR 2022-06-02 21Z...\n",
      "> COMPLETE --------\n",
      "> RUNTIME: 00:00:00\n",
      "> LIST ACARS PROFILES FUNCTION\n",
      "  ---------------------------------\n",
      "> AVAILABLE ACARS PROFILES FOR 2022-06-02 22Z...\n",
      "> COMPLETE --------\n",
      "> RUNTIME: 00:00:00\n",
      "> LIST ACARS PROFILES FUNCTION\n",
      "  ---------------------------------\n",
      "> AVAILABLE ACARS PROFILES FOR 2022-06-02 23Z...\n",
      "> COMPLETE --------\n",
      "> RUNTIME: 00:00:00\n"
     ]
    }
   ],
   "source": [
    "acars_all_list = []\n",
    "airports_i_want = {'IAH' : {'latitude' : 29.9844353, 'longitude' : -95.3414425},\n",
    "                   'HOU' : {'latitude' : 29.6457998, 'longitude' : -95.2772316},\n",
    "                   'LBX' : {'latitude' : 29.1086389, 'longitude' : -95.4620833},\n",
    "                   'GLS' : {'latitude' : 29.2653333, 'longitude' : -94.8604167},\n",
    "                   'EFD' : {'latitude' : 29.6073333, 'longitude' : -95.1587500},\n",
    "                   'IWS' : {'latitude' : 29.8181944, 'longitude' : -95.6726111},\n",
    "                   'SGR' : {'latitude' : 29.6222486, 'longitude' : -95.6565342},\n",
    "                   'DWH' : {'latitude' : 30.0617791, 'longitude' : -95.5527884},\n",
    "                   'CXO' : {'latitude' : 30.3533955, 'longitude' : -95.4150819},\n",
    "                   'HPY' : {'latitude' : 29.7860833, 'longitude' : -94.9526667}\n",
    "                   }\n",
    "for hour_to_pull in range(24):\n",
    "    acars_conn = spy.acars_data(str(date_i_want.year).zfill(4), str(date_i_want.month).zfill(2), str(date_i_want.day).zfill(2), str(hour_to_pull).zfill(2))\n",
    "    this_hour_acars_list = [prof for prof in acars_conn.list_profiles() if prof[:3] in airports_i_want.keys()]\n",
    "    acars_all_list.extend(this_hour_acars_list)"
   ]
  },
  {
   "cell_type": "code",
   "execution_count": 4,
   "metadata": {},
   "outputs": [
    {
     "data": {
      "text/plain": [
       "['HOU_0030',\n",
       " 'HOU_0150',\n",
       " 'HOU_0250',\n",
       " 'HOU_0300',\n",
       " 'HOU_0340',\n",
       " 'HOU_0350',\n",
       " 'HOU_1200',\n",
       " 'HOU_1220',\n",
       " 'HOU_1230',\n",
       " 'HOU_1320',\n",
       " 'HOU_1350',\n",
       " 'HOU_1400',\n",
       " 'IAH_1820',\n",
       " 'HOU_1920',\n",
       " 'IAH_1930',\n",
       " 'HOU_2020',\n",
       " 'IAH_2040',\n",
       " 'IAH_2130']"
      ]
     },
     "execution_count": 4,
     "metadata": {},
     "output_type": "execute_result"
    }
   ],
   "source": [
    "acars_all_list"
   ]
  },
  {
   "cell_type": "code",
   "execution_count": 5,
   "metadata": {},
   "outputs": [],
   "source": [
    "acars_profile_dts = []\n",
    "acars_profile_lons = []\n",
    "acars_profile_lats = []\n",
    "acars_profile_files = []\n",
    "\n",
    "\n",
    "for acars_loctime in acars_all_list:\n",
    "    acars_profile_dts.append(date_i_want.replace(hour=int(acars_loctime[-4:-2]), minute=int(acars_loctime[-2:])))\n",
    "    acars_profile_lats.append(airports_i_want[acars_loctime[:3]]['latitude'])\n",
    "    acars_profile_lons.append(airports_i_want[acars_loctime[:3]]['longitude'])\n",
    "    acars_profile_files.append('ACARS+'+acars_loctime)"
   ]
  },
  {
   "cell_type": "code",
   "execution_count": null,
   "metadata": {},
   "outputs": [
    {
     "name": "stdout",
     "output_type": "stream",
     "text": [
      "> ACARS DATA ACCESS FUNCTION\n",
      "  ---------------------------------\n",
      "    > COMPLETE --------\n",
      "    > RUNTIME: 00:00:00\n"
     ]
    },
    {
     "name": "stderr",
     "output_type": "stream",
     "text": [
      "/Users/stgardner4/micromamba/envs/tracer/lib/python3.12/site-packages/sounderpy/acars_data.py:138: UserWarning: Input line 1 contained no data and will not be counted towards `max_rows=50000`.  This differs from the behaviour in NumPy <=1.22 which counted lines rather than rows.  If desired, the previous behaviour can be achieved by using `itertools.islice`.\n",
      "Please see the 1.23 release notes for an example on how to do this.  If you wish to ignore this warning, use `warnings.filterwarnings`.  This warning is expected to be removed in the future and is given only once per `loadtxt` call.\n",
      "  header = loadtxt(urlopen(profile_url).readlines()[0:3], dtype='str', comments=\"%\", unpack=True)\n"
     ]
    }
   ],
   "source": [
    "for acars_profile_file, acars_dt in zip(acars_profile_files, acars_profile_dts):\n",
    "    acars_conn = spy.acars_data(str(acars_dt.year).zfill(4), str(acars_dt.month).zfill(2), str(acars_dt.day).zfill(2), str(acars_dt.hour).zfill(2))\n",
    "    sounding = acars_conn.get_profile(acars_profile_file.replace('ACARS+', ''), hush=True, clean_it=True)\n",
    "    this_sonde_data = pd.DataFrame(\n",
    "        {'pres' : sounding['p'].to('hPa').m,\n",
    "        'tdry' : sounding['T'].to('degC').m,\n",
    "        'dp' : sounding['Td'].to('degC').m,\n",
    "        'u_wind' : sounding['u'].to('m/s').m,\n",
    "        'v_wind' : sounding['v'].to('m/s').m,\n",
    "        'alt' : sounding['z'].to('m').m}\n",
    "    )\n",
    "    break"
   ]
  },
  {
   "cell_type": "code",
   "execution_count": null,
   "metadata": {},
   "outputs": [],
   "source": []
  },
  {
   "cell_type": "code",
   "execution_count": 87,
   "metadata": {},
   "outputs": [
    {
     "data": {
      "text/plain": [
       "dict_keys(['p', 'z', 'T', 'Td', 'u', 'v', 'site_info', 'titles'])"
      ]
     },
     "execution_count": 87,
     "metadata": {},
     "output_type": "execute_result"
    }
   ],
   "source": [
    "sounding.keys()"
   ]
  },
  {
   "cell_type": "code",
   "execution_count": 89,
   "metadata": {},
   "outputs": [
    {
     "data": {
      "text/plain": [
       "(6, 32)"
      ]
     },
     "execution_count": 89,
     "metadata": {},
     "output_type": "execute_result"
    }
   ],
   "source": [
    "sounding.shape"
   ]
  },
  {
   "cell_type": "code",
   "execution_count": 90,
   "metadata": {},
   "outputs": [
    {
     "data": {
      "text/plain": [
       "array(['1006.81,', '992.31,', '984.78,', '968.34,', '952.58,', '944.38,',\n",
       "       '940.87,', '935.90,', '918.12,', '889.32,', '863.48,', '851.51,',\n",
       "       '830.95,', '790.93,', '755.80,', '723.77,', '693.20,', '677.53,',\n",
       "       '667.87,', '645.22,', '619.95,', '593.16,', '570.47,', '550.17,',\n",
       "       '531.53,', '514.65,', '497.12,', '479.23,', '464.87,', '450.04,',\n",
       "       '354.61,', '283.82,'], dtype='<U8')"
      ]
     },
     "execution_count": 90,
     "metadata": {},
     "output_type": "execute_result"
    }
   ],
   "source": [
    "sounding[0, :] # Pressure, hPa"
   ]
  },
  {
   "cell_type": "code",
   "execution_count": 91,
   "metadata": {},
   "outputs": [
    {
     "data": {
      "text/plain": [
       "array(['56.00,', '178.00,', '242.00,', '383.00,', '520.00,', '592.00,',\n",
       "       '623.00,', '667.00,', '826.00,', '1089.00,', '1331.00,',\n",
       "       '1445.00,', '1644.00,', '2043.00,', '2407.00,', '2751.00,',\n",
       "       '3091.00,', '3270.00,', '3382.00,', '3650.00,', '3958.00,',\n",
       "       '4296.00,', '4592.00,', '4865.00,', '5123.00,', '5363.00,',\n",
       "       '5619.00,', '5888.00,', '6110.00,', '6345.00,', '8029.00,',\n",
       "       '9535.00,'], dtype='<U8')"
      ]
     },
     "execution_count": 91,
     "metadata": {},
     "output_type": "execute_result"
    }
   ],
   "source": [
    "sounding[1, :] # Height, m"
   ]
  },
  {
   "cell_type": "code",
   "execution_count": 92,
   "metadata": {},
   "outputs": [
    {
     "data": {
      "text/plain": [
       "array(['28.55,', '27.05,', '26.55,', '25.25,', '23.35,', '22.55,',\n",
       "       '22.35,', '21.75,', '21.55,', '20.05,', '18.55,', '17.55,',\n",
       "       '16.85,', '15.55,', '12.75,', '10.05,', '7.35,', '7.05,', '7.35,',\n",
       "       '5.55,', '4.05,', '2.05,', '0.85,', '-2.25,', '-3.25,', '-4.75,',\n",
       "       '-6.25,', '-8.45,', '-9.45,', '-10.95,', '-24.95,', '-37.65,'],\n",
       "      dtype='<U8')"
      ]
     },
     "execution_count": 92,
     "metadata": {},
     "output_type": "execute_result"
    }
   ],
   "source": [
    "sounding[2, :] # Temperature, C"
   ]
  },
  {
   "cell_type": "code",
   "execution_count": 93,
   "metadata": {},
   "outputs": [
    {
     "data": {
      "text/plain": [
       "array(['22.47,', '22.18,', '22.19,', '21.30,', '21.39,', '21.13,',\n",
       "       '20.85,', '20.77,', '16.93,', '14.84,', '15.19,', '14.11,',\n",
       "       '12.21,', '8.76,', '6.44,', '4.49,', '1.36,', '-15.61,', '-23.36,',\n",
       "       '-24.35,', '-25.70,', '-34.90,', '-39.63,', '-18.07,', '-19.34,',\n",
       "       '-22.57,', '-19.24,', '-20.19,', '-26.82,', '-40.41,', '-49.16,',\n",
       "       '-53.17,'], dtype='<U8')"
      ]
     },
     "execution_count": 93,
     "metadata": {},
     "output_type": "execute_result"
    }
   ],
   "source": [
    "sounding[3, :] # Dewpoint, C"
   ]
  },
  {
   "cell_type": "code",
   "execution_count": 94,
   "metadata": {},
   "outputs": [
    {
     "data": {
      "text/plain": [
       "array(['148.00,', '154.00,', '154.00,', '160.00,', '164.00,', '164.00,',\n",
       "       '165.00,', '169.00,', '165.00,', '154.00,', '139.00,', '131.00,',\n",
       "       '142.00,', '122.00,', '155.00,', '100.00,', '93.00,', '156.00,',\n",
       "       '108.00,', '57.00,', '334.00,', '332.00,', '333.00,', '4.00,',\n",
       "       '323.00,', '315.00,', '321.00,', '299.00,', '245.00,', '259.00,',\n",
       "       '298.00,', '281.00,'], dtype='<U8')"
      ]
     },
     "execution_count": 94,
     "metadata": {},
     "output_type": "execute_result"
    }
   ],
   "source": [
    "sounding[4, :] # Wind speed, m/s"
   ]
  },
  {
   "cell_type": "code",
   "execution_count": 95,
   "metadata": {},
   "outputs": [
    {
     "data": {
      "text/plain": [
       "array(['7.95', '11.06', '11.06', '9.89', '11.06', '9.89', '11.06',\n",
       "       '11.06', '11.06', '11.06', '8.92', '7.95', '6.98', '2.91', '1.94',\n",
       "       '2.91', '5.04', '6.01', '0.97', '6.01', '6.01', '6.98', '6.01',\n",
       "       '6.98', '2.91', '2.91', '4.07', '6.01', '6.01', '8.92', '20.95',\n",
       "       '19.98'], dtype='<U8')"
      ]
     },
     "execution_count": 95,
     "metadata": {},
     "output_type": "execute_result"
    }
   ],
   "source": [
    "sounding[5, :]"
   ]
  }
 ],
 "metadata": {
  "kernelspec": {
   "display_name": "Python 3",
   "language": "python",
   "name": "python3"
  },
  "language_info": {
   "codemirror_mode": {
    "name": "ipython",
    "version": 3
   },
   "file_extension": ".py",
   "mimetype": "text/x-python",
   "name": "python",
   "nbconvert_exporter": "python",
   "pygments_lexer": "ipython3",
   "version": "3.12.8"
  }
 },
 "nbformat": 4,
 "nbformat_minor": 2
}

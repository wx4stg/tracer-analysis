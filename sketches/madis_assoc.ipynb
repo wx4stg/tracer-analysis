{
 "cells": [
  {
   "cell_type": "code",
   "execution_count": 1,
   "metadata": {},
   "outputs": [],
   "source": [
    "from os import path\n",
    "\n",
    "import xarray as xr\n",
    "import numpy as np\n",
    "from datetime import datetime as dt\n",
    "import geopandas as gpd\n",
    "from matplotlib.path import Path\n",
    "import warnings"
   ]
  },
  {
   "cell_type": "code",
   "execution_count": 2,
   "metadata": {},
   "outputs": [],
   "source": [
    "date_i_want = dt(2022, 6, 2)"
   ]
  },
  {
   "cell_type": "code",
   "execution_count": 3,
   "metadata": {},
   "outputs": [
    {
     "name": "stderr",
     "output_type": "stream",
     "text": [
      "/Users/stgardner4/micromamba/envs/tracer/lib/python3.12/site-packages/xarray/backends/plugins.py:149: RuntimeWarning: 'netcdf4' fails while guessing\n",
      "  warnings.warn(f\"{engine!r} fails while guessing\", RuntimeWarning)\n",
      "/Users/stgardner4/micromamba/envs/tracer/lib/python3.12/site-packages/xarray/backends/plugins.py:149: RuntimeWarning: 'h5netcdf' fails while guessing\n",
      "  warnings.warn(f\"{engine!r} fails while guessing\", RuntimeWarning)\n",
      "/Users/stgardner4/micromamba/envs/tracer/lib/python3.12/site-packages/xarray/backends/plugins.py:149: RuntimeWarning: 'scipy' fails while guessing\n",
      "  warnings.warn(f\"{engine!r} fails while guessing\", RuntimeWarning)\n"
     ]
    }
   ],
   "source": [
    "tfm_path = f'/Volumes/LtgSSD/tobac_saves/tobac_Save_{date_i_want.strftime(\"%Y%m%d\")}/seabreeze-obs.zarr'\n",
    "tfm = xr.open_dataset(tfm_path)"
   ]
  },
  {
   "cell_type": "code",
   "execution_count": null,
   "metadata": {},
   "outputs": [
    {
     "data": {
      "text/plain": [
       "datetime.date(2022, 6, 2)"
      ]
     },
     "execution_count": 37,
     "metadata": {},
     "output_type": "execute_result"
    }
   ],
   "source": [
    "\n",
    "date_i_want"
   ]
  },
  {
   "cell_type": "code",
   "execution_count": 5,
   "metadata": {},
   "outputs": [],
   "source": [
    "grid_max_lon = tfm.lon.max().compute()\n",
    "grid_min_lon = tfm.lon.min().compute()\n",
    "grid_max_lat = tfm.lat.max().compute()\n",
    "grid_min_lat = tfm.lat.min().compute()\n",
    "madis_file = path.join(path.sep, 'Volumes', 'LtgSSD', 'sfcdata_madis', date_i_want.strftime('%Y%m%d_*'))\n",
    "with warnings.catch_warnings():\n",
    "    warnings.filterwarnings('ignore')\n",
    "    madis_ds = xr.open_mfdataset(madis_file, engine='netcdf4', chunks='auto', coords='minimal', concat_dim='recNum', combine='nested', compat='override')\n",
    "madis_ds = madis_ds.where(((madis_ds.longitude <= grid_max_lon) & (madis_ds.longitude >= grid_min_lon) & (madis_ds.latitude <= grid_max_lat) & (madis_ds.latitude >= grid_min_lat)).compute(), drop=True)\n",
    "dims_to_rm = list(madis_ds.dims)\n",
    "dims_to_rm.remove('recNum')\n",
    "madis_ds = madis_ds.drop_dims(dims_to_rm)"
   ]
  },
  {
   "cell_type": "code",
   "execution_count": 6,
   "metadata": {},
   "outputs": [],
   "source": [
    "madis_ds_temp = madis_ds.temperature.data\n",
    "madis_ds_temp_qc = madis_ds.temperatureQCR.data\n",
    "\n",
    "madis_ds_dew = madis_ds.dewpoint.data\n",
    "madis_ds_dew_qc = madis_ds.dewpointQCR.data\n",
    "\n",
    "madis_ds_time = madis_ds.observationTime.data\n",
    "madis_ds_lat = madis_ds.latitude.data\n",
    "madis_ds_lon = madis_ds.longitude.data\n",
    "\n",
    "madis_ds_invalid = np.zeros_like(madis_ds_temp, dtype=bool)\n",
    "madis_ds_invalid[((madis_ds_temp_qc != 0) | (madis_ds_dew_qc != 0) | np.isnan(madis_ds_temp) | np.isnan(madis_ds_dew)).compute()] = True\n",
    "\n",
    "madis_ds_temp[madis_ds_invalid] = np.nan\n",
    "madis_ds_temp = madis_ds_temp.compute()\n",
    "madis_ds_dew[madis_ds_invalid] = np.nan\n",
    "madis_ds_dew = madis_ds_dew.compute()\n",
    "madis_ds_time[madis_ds_invalid] = np.datetime64('NaT')\n",
    "madis_ds_time = madis_ds_time.astype('datetime64[s]').compute()\n",
    "madis_ds_lat[madis_ds_invalid] = np.nan\n",
    "madis_ds_lat = madis_ds_lat.compute()\n",
    "madis_ds_lon[madis_ds_invalid] = np.nan\n",
    "madis_ds_lon = madis_ds_lon.compute()"
   ]
  },
  {
   "cell_type": "code",
   "execution_count": 7,
   "metadata": {},
   "outputs": [
    {
     "data": {
      "text/html": [
       "<div>\n",
       "<style scoped>\n",
       "    .dataframe tbody tr th:only-of-type {\n",
       "        vertical-align: middle;\n",
       "    }\n",
       "\n",
       "    .dataframe tbody tr th {\n",
       "        vertical-align: top;\n",
       "    }\n",
       "\n",
       "    .dataframe thead th {\n",
       "        text-align: right;\n",
       "    }\n",
       "</style>\n",
       "<table border=\"1\" class=\"dataframe\">\n",
       "  <thead>\n",
       "    <tr style=\"text-align: right;\">\n",
       "      <th></th>\n",
       "      <th>geometry</th>\n",
       "    </tr>\n",
       "    <tr>\n",
       "      <th>index</th>\n",
       "      <th></th>\n",
       "    </tr>\n",
       "  </thead>\n",
       "  <tbody>\n",
       "    <tr>\n",
       "      <th>2022-06-02 13:27:29</th>\n",
       "      <td>POLYGON ((-91.46126 29.35024, -91.9645 29.4573...</td>\n",
       "    </tr>\n",
       "    <tr>\n",
       "      <th>2022-06-02 13:31:12</th>\n",
       "      <td>POLYGON ((-91.4576 29.35025, -92.03157 29.4699...</td>\n",
       "    </tr>\n",
       "    <tr>\n",
       "      <th>2022-06-02 13:34:55</th>\n",
       "      <td>POLYGON ((-91.45396 29.35026, -92.09852 29.482...</td>\n",
       "    </tr>\n",
       "    <tr>\n",
       "      <th>2022-06-02 13:38:38</th>\n",
       "      <td>POLYGON ((-91.45031 29.35027, -92.16552 29.495...</td>\n",
       "    </tr>\n",
       "    <tr>\n",
       "      <th>2022-06-02 13:42:20</th>\n",
       "      <td>POLYGON ((-91.44667 29.35028, -92.23226 29.507...</td>\n",
       "    </tr>\n",
       "    <tr>\n",
       "      <th>...</th>\n",
       "      <td>...</td>\n",
       "    </tr>\n",
       "    <tr>\n",
       "      <th>2022-06-02 23:37:40</th>\n",
       "      <td>POLYGON ((-98.35491 26.43437, -91.45558 26.447...</td>\n",
       "    </tr>\n",
       "    <tr>\n",
       "      <th>2022-06-02 23:42:31</th>\n",
       "      <td>POLYGON ((-98.33894 26.43924, -91.46642 26.453...</td>\n",
       "    </tr>\n",
       "    <tr>\n",
       "      <th>2022-06-02 23:47:23</th>\n",
       "      <td>POLYGON ((-98.323 26.44411, -91.47726 26.4596,...</td>\n",
       "    </tr>\n",
       "    <tr>\n",
       "      <th>2022-06-02 23:52:15</th>\n",
       "      <td>POLYGON ((-98.36842 26.43442, -91.4686 26.4499...</td>\n",
       "    </tr>\n",
       "    <tr>\n",
       "      <th>2022-06-02 23:57:07</th>\n",
       "      <td>POLYGON ((-91.43398 30.3597, -92.29511 30.2924...</td>\n",
       "    </tr>\n",
       "  </tbody>\n",
       "</table>\n",
       "<p>144 rows × 1 columns</p>\n",
       "</div>"
      ],
      "text/plain": [
       "                                                              geometry\n",
       "index                                                                 \n",
       "2022-06-02 13:27:29  POLYGON ((-91.46126 29.35024, -91.9645 29.4573...\n",
       "2022-06-02 13:31:12  POLYGON ((-91.4576 29.35025, -92.03157 29.4699...\n",
       "2022-06-02 13:34:55  POLYGON ((-91.45396 29.35026, -92.09852 29.482...\n",
       "2022-06-02 13:38:38  POLYGON ((-91.45031 29.35027, -92.16552 29.495...\n",
       "2022-06-02 13:42:20  POLYGON ((-91.44667 29.35028, -92.23226 29.507...\n",
       "...                                                                ...\n",
       "2022-06-02 23:37:40  POLYGON ((-98.35491 26.43437, -91.45558 26.447...\n",
       "2022-06-02 23:42:31  POLYGON ((-98.33894 26.43924, -91.46642 26.453...\n",
       "2022-06-02 23:47:23  POLYGON ((-98.323 26.44411, -91.47726 26.4596,...\n",
       "2022-06-02 23:52:15  POLYGON ((-98.36842 26.43442, -91.4686 26.4499...\n",
       "2022-06-02 23:57:07  POLYGON ((-91.43398 30.3597, -92.29511 30.2924...\n",
       "\n",
       "[144 rows x 1 columns]"
      ]
     },
     "execution_count": 7,
     "metadata": {},
     "output_type": "execute_result"
    }
   ],
   "source": [
    "polyline = gpd.read_file(f'/Volumes/LtgSSD/analysis/sam_polyline/{date_i_want.strftime(\"%Y-%m-%d\")}_interpolated.json').set_index('index')\n",
    "polyline"
   ]
  },
  {
   "cell_type": "code",
   "execution_count": 17,
   "metadata": {},
   "outputs": [],
   "source": [
    "def identify_madis(tfmtime, madis_ds_temp, madis_ds_dew, madis_ds_time, madis_ds_lat, madis_ds_lon, polyline):\n",
    "    maritime_temp = np.full(tfmtime.shape, np.nan)\n",
    "    maritime_dew = np.full(tfmtime.shape, np.nan)\n",
    "    continental_temp = np.full(tfmtime.shape, np.nan)\n",
    "    continental_dew = np.full(tfmtime.shape, np.nan)\n",
    "    for i in np.arange(tfmtime.shape[0]):\n",
    "        time = tfmtime[i]\n",
    "        if time not in polyline.index.values:\n",
    "            maritime_temp[i] = np.nan\n",
    "            maritime_dew[i] = np.nan\n",
    "            continental_temp[i] = np.nan\n",
    "            continental_dew[i] = np.nan\n",
    "            continue\n",
    "        lower_time_bound = time - 3600\n",
    "        in_window = ((madis_ds_time <= time) & (madis_ds_time >= lower_time_bound))\n",
    "        temp_in_window = madis_ds_temp[in_window]\n",
    "        dew_in_window = madis_ds_dew[in_window]\n",
    "        lat_in_window = madis_ds_lat[in_window]\n",
    "        lon_in_window = madis_ds_lon[in_window]\n",
    "        \n",
    "        this_polyline = polyline.loc[time]['geometry']\n",
    "        this_polyline_mpl = Path(np.array(this_polyline.exterior.coords))\n",
    "        sbf_window = this_polyline_mpl.contains_points(np.array([lon_in_window.flatten(), lat_in_window.flatten()]).T).reshape(lon_in_window.shape).astype(int) - 2\n",
    "        maritime_temp[i] = np.nanmean(temp_in_window[sbf_window == -1])\n",
    "        maritime_dew[i] = np.nanmean(dew_in_window[sbf_window == -1])\n",
    "        continental_temp[i] = np.nanmean(temp_in_window[sbf_window == -2])\n",
    "        continental_dew[i] = np.nanmean(dew_in_window[sbf_window == -2])\n",
    "    return maritime_temp, maritime_dew, continental_temp, continental_dew"
   ]
  },
  {
   "cell_type": "code",
   "execution_count": 18,
   "metadata": {},
   "outputs": [],
   "source": [
    "maritime_temp, maritime_dew, continental_temp, continental_dew = identify_madis(tfm.time.data.astype('datetime64[s]'), madis_ds_temp, madis_ds_dew,\n",
    "               madis_ds_time.astype('datetime64[s]'), madis_ds_lat, madis_ds_lon, polyline)"
   ]
  },
  {
   "cell_type": "code",
   "execution_count": 29,
   "metadata": {},
   "outputs": [],
   "source": [
    "tfm.maritime_dewpoint_profile.transpose('vertical_levels', 'time').data[0, :][~np.isnan(maritime_dew)] = maritime_dew[~np.isnan(maritime_dew)] - 273.15"
   ]
  }
 ],
 "metadata": {
  "kernelspec": {
   "display_name": "Python 3",
   "language": "python",
   "name": "python3"
  },
  "language_info": {
   "codemirror_mode": {
    "name": "ipython",
    "version": 3
   },
   "file_extension": ".py",
   "mimetype": "text/x-python",
   "name": "python",
   "nbconvert_exporter": "python",
   "pygments_lexer": "ipython3",
   "version": "3.12.7"
  }
 },
 "nbformat": 4,
 "nbformat_minor": 2
}
